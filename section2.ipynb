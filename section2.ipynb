{
 "cells": [
  {
   "cell_type": "code",
   "execution_count": 1,
   "metadata": {},
   "outputs": [],
   "source": [
    "import numpy as np\n",
    "import pandas as pd\n",
    "import math"
   ]
  },
  {
   "cell_type": "code",
   "execution_count": 3,
   "metadata": {},
   "outputs": [],
   "source": [
    "values = [16, 14, 7, 151, 170, -105, 40, -14, -7, 128, 40, 15, 92, 28, 6, 122, 98, 6, 132, 15, 50, -3, 36, 38, 48, 34, 45, 14, 11, 14, 23, 22, 41, 159, 94, 116, 16, 125, 143, 104, 10, 33, -6, 156, 31, 5, 6, 18, 26, 128, 122, 19, 8, 22, 17, 92, 25, 34, 123, 23, 143, -31, 149, 28, -1, 107, 20, 26, 11, 10, 131, 67, 47, 11, 54, 142, 2, 117, -111, 46, 26, -9, 123, 155, 69, -5, 156, 87, 122, 150, 103, 25, 25, -63, 109, 66, 36, 118, 13, 17, 30, 122, 22, 167, 144, 69, 132, 149, 25, 145, 6, 137, 5, -12, 21, 152, 147, 22, 124, 10, 144, 93, 13, 52, 9, 110, 122, 157, 28, -65, 108, 144, 27, 137, 111, 118, 23, 123, 155, 156, 115, 70, 171, 122, 8, 14, 32, 2, -10, 156, 12, 11, 22, 15, 45, 18, 139, -35, 132, 120, 145, 24, -1, 7, 24, 26, -37, 155, -35, 30, 129, -19, 25, 28, 13, 31, -66, 31, 147, 31, -37, 19, 24, 143, 13, 23, 176, 139, -31, 40, 7, 174, 28, 148, 152, 152, 29, 20, 23, 163, 32, 152, 157, 36, 21, 114, 24, 148, 1, 33, -2, 101, 131, 36, 147, 13, 146, 129, 27, 2, 116, 130, 7, 47, 71, 62, 43, 14, 119, 41, 118, 177, 103, 18, 141, 135, 96, 113, 128, 52, 17, 5, 11, 49, -19, -80, 28, 15, 160, 28, 51, 143, 29, 149, 6, 43, 12, 93, 104, 14, 36, 9, 13, 43, 2, 0, 13, 13, 66, 111, 37, 8, 170, -91, 160, 22, 44, -42, -22, 18, 180, 135, 126, 142, 119, 17, 139, 197, 1, -14, 154, 136, -35, 20, -13, 127, 73, 58, 42, 0]"
   ]
  },
  {
   "cell_type": "markdown",
   "metadata": {},
   "source": [
    "### Q11. 実数が格納されたリストlを受け取ったときに、その実数データの最大値を返す関数maximum、および最小値を返す関数minimumをそれぞれ実装せよ（ただし、max関数、min関数を用いてはならない）。さらに、実装した関数maximum、minimumを用いて、変数valuesに格納された実数の最大値および最小値を求めよ。"
   ]
  },
  {
   "cell_type": "code",
   "execution_count": 4,
   "metadata": {},
   "outputs": [],
   "source": [
    "def maximum(values):\n",
    "    result = values[0]\n",
    "    for value in values[1:]:\n",
    "        if value > result:\n",
    "            result = value\n",
    "    return result\n",
    "\n",
    "def minimum(values):\n",
    "    result = values[0]\n",
    "    for value in values[1:]:\n",
    "        if value < result:\n",
    "            result = value\n",
    "    return result"
   ]
  },
  {
   "cell_type": "code",
   "execution_count": 17,
   "metadata": {},
   "outputs": [
    {
     "name": "stdout",
     "output_type": "stream",
     "text": [
      "197 197\n",
      "-111 -111\n"
     ]
    }
   ],
   "source": [
    "print(maximum(values), max(values))\n",
    "print(minimum(values), min(values))"
   ]
  },
  {
   "cell_type": "markdown",
   "metadata": {},
   "source": [
    "### Q12. 実数が格納されたリストlを受け取ったときに、その実数データの平均を返す関数meanを実装せよ。さらに、実装した関数meanを用いて、変数valuesに格納された実数の平均を求めよ。"
   ]
  },
  {
   "cell_type": "code",
   "execution_count": 9,
   "metadata": {},
   "outputs": [],
   "source": [
    "def mean_list(values):\n",
    "    result = 0\n",
    "    for value in values:\n",
    "        result += value\n",
    "    return result / len(values)"
   ]
  },
  {
   "cell_type": "code",
   "execution_count": 16,
   "metadata": {},
   "outputs": [
    {
     "name": "stdout",
     "output_type": "stream",
     "text": [
      "60.50666666666667\n",
      "60.50666666666667\n"
     ]
    }
   ],
   "source": [
    "print(mean_list(values))\n",
    "print(np.mean(values))"
   ]
  },
  {
   "cell_type": "markdown",
   "metadata": {},
   "source": [
    "### Q13. 実数が格納されたリストlを受け取ったときに、その実数データの分散を返す関数varを実装せよ。さらに、実装した関数varを用いて、変数valuesに格納された実数の分散を求めよ。"
   ]
  },
  {
   "cell_type": "code",
   "execution_count": 18,
   "metadata": {},
   "outputs": [],
   "source": [
    "def var_list(values):\n",
    "    avg = 0\n",
    "    var = 0\n",
    "    for value in values:\n",
    "        avg += value\n",
    "    avg = avg / len(values)\n",
    "    for value in values:\n",
    "        var += (value - avg) ** 2\n",
    "    return var / len(values)"
   ]
  },
  {
   "cell_type": "code",
   "execution_count": 20,
   "metadata": {},
   "outputs": [
    {
     "name": "stdout",
     "output_type": "stream",
     "text": [
      "4026.763288888891 4026.7632888888893\n"
     ]
    }
   ],
   "source": [
    "print(var_list(values), np.var(values))"
   ]
  },
  {
   "cell_type": "markdown",
   "metadata": {},
   "source": [
    "### Q14. 実数が格納されたリストlを受け取ったときに、その実数データの標準偏差を返す関数stdを実装せよ。さらに、実装した関数stdを用いて、変数valuesに格納された実数の標準偏差を求めよ。"
   ]
  },
  {
   "cell_type": "code",
   "execution_count": 21,
   "metadata": {},
   "outputs": [],
   "source": [
    "def std_list(values):\n",
    "    avg = 0\n",
    "    var = 0\n",
    "    for value in values:\n",
    "        avg += value\n",
    "    avg = avg / len(values)\n",
    "    for value in values:\n",
    "        var += (value - avg) ** 2\n",
    "    return math.sqrt(var / len(values))"
   ]
  },
  {
   "cell_type": "code",
   "execution_count": 22,
   "metadata": {},
   "outputs": [
    {
     "name": "stdout",
     "output_type": "stream",
     "text": [
      "63.45678284382916 63.456782843829146\n"
     ]
    }
   ],
   "source": [
    "print(std_list(values), np.std(values))"
   ]
  },
  {
   "cell_type": "markdown",
   "metadata": {},
   "source": [
    "### Q15. 実数が格納されたリストlを受け取ったときに、その実数データの最頻値を返す関数modeを実装せよ。 さらに、実装した関数modeを用いて、変数valuesに格納された実数の最頻値を求めよ。"
   ]
  },
  {
   "cell_type": "code",
   "execution_count": 33,
   "metadata": {},
   "outputs": [],
   "source": [
    "def mode_list(values):\n",
    "    dct = {}\n",
    "    for value in values:\n",
    "        if value in dct:\n",
    "            dct[value] += 1\n",
    "        else:\n",
    "            dct[value] = 1\n",
    "    dct = sorted(dct.items(), key=lambda x: x[1], reverse=True)\n",
    "    return dct[0][0]"
   ]
  },
  {
   "cell_type": "code",
   "execution_count": 34,
   "metadata": {},
   "outputs": [
    {
     "name": "stdout",
     "output_type": "stream",
     "text": [
      "13\n"
     ]
    }
   ],
   "source": [
    "print(mode_list(values))"
   ]
  },
  {
   "cell_type": "code",
   "execution_count": 93,
   "metadata": {},
   "outputs": [
    {
     "name": "stdout",
     "output_type": "stream",
     "text": [
      "13 [(13, 8)]\n"
     ]
    }
   ],
   "source": [
    "# Answer\n",
    "def mode(l):\n",
    "    freq = {}\n",
    "    for e in l:\n",
    "        freq.setdefault(e, 0)\n",
    "        freq[e] += 1\n",
    "\n",
    "    most_frequent_data = sorted(freq.items(), key=lambda x:x[1]).pop()\n",
    "    return most_frequent_data[0]\n",
    "\n",
    "mode(values)\n",
    "\n",
    "# 検算\n",
    "from collections import Counter\n",
    "print(mode(values), Counter(values).most_common(1)) "
   ]
  },
  {
   "cell_type": "markdown",
   "metadata": {},
   "source": [
    "### Q16. Q15.で実装した関数modeを改良し、最頻値が複数存在する場合にその最大値を返すようにせよ。"
   ]
  },
  {
   "cell_type": "code",
   "execution_count": 42,
   "metadata": {},
   "outputs": [],
   "source": [
    "def mode_list2(values):\n",
    "    dct = {}\n",
    "    for value in values:\n",
    "        if str(value) in dct:\n",
    "            dct[str(value)] += 1\n",
    "        else:\n",
    "            dct[str(value)] = 1\n",
    "    dct = sorted(dct.items(), key=lambda x: x[1], reverse=True)\n",
    "    max_mode, count_mode = dct[0][0], dct[0][1]\n",
    "    for key, value in dct[1:]:\n",
    "        if value >= count_mode:\n",
    "            if key > max_mode:\n",
    "                max_mode = key\n",
    "        else:\n",
    "            break\n",
    "    return max_mode"
   ]
  },
  {
   "cell_type": "code",
   "execution_count": 43,
   "metadata": {},
   "outputs": [
    {
     "name": "stdout",
     "output_type": "stream",
     "text": [
      "6\n"
     ]
    }
   ],
   "source": [
    "test = [1,1,1,2,2,2,3,4,5,6,6,6]\n",
    "print(mode_list2(test))"
   ]
  },
  {
   "cell_type": "code",
   "execution_count": 97,
   "metadata": {},
   "outputs": [
    {
     "name": "stdout",
     "output_type": "stream",
     "text": [
      "13\n",
      "13\n"
     ]
    }
   ],
   "source": [
    "print(mode_list2(values))\n",
    "print(mode(values))"
   ]
  },
  {
   "cell_type": "markdown",
   "metadata": {},
   "source": [
    "### Q17. 実数が格納されたリストlを受け取ったときに、その実数データの中央値を返す関数medianを実装せよ。なお、データの個数が偶数の場合は、中央に近い値2つの平均を返すようにせよ。さらに、実装した関数medianを用いて、変数valuesに格納された実数の中央値を求めよ。"
   ]
  },
  {
   "cell_type": "code",
   "execution_count": 99,
   "metadata": {},
   "outputs": [],
   "source": [
    "def median_list(values):\n",
    "    length = len(values)\n",
    "    values = sorted(values)\n",
    "    if length % 2 == 0:\n",
    "        return (values[length//2] + values[length//2-1]) / 2\n",
    "    else:\n",
    "        return values[length//2]"
   ]
  },
  {
   "cell_type": "code",
   "execution_count": 101,
   "metadata": {},
   "outputs": [
    {
     "name": "stdout",
     "output_type": "stream",
     "text": [
      "36.0 36.0\n"
     ]
    }
   ],
   "source": [
    "# sortを忘れてた\n",
    "print(median_list(values), np.median(values))"
   ]
  },
  {
   "cell_type": "code",
   "execution_count": 102,
   "metadata": {},
   "outputs": [
    {
     "name": "stdout",
     "output_type": "stream",
     "text": [
      "36.0 36.0\n"
     ]
    }
   ],
   "source": [
    "# Answer\n",
    "def median(l):\n",
    "    sorted_list = sorted(l)\n",
    "    \n",
    "    # lに含まれる実数の個数が奇数の時\n",
    "    if len(l) % 2 == 1:\n",
    "        median_index = int(math.floor(len(l) / 2) + 1)\n",
    "        result = sorted_list[median_index]\n",
    "    # lに含まれる実数の個数が偶数の時\n",
    "    else:\n",
    "        right_median_index = int(len(l) / 2)\n",
    "        result = (sorted_list[right_median_index - 1] + sorted_list[right_median_index]) / 2\n",
    "\n",
    "    return result\n",
    "        \n",
    "median(values)\n",
    "\n",
    "# 検算\n",
    "print(median(values), np.median(values)) "
   ]
  },
  {
   "cell_type": "markdown",
   "metadata": {},
   "source": [
    "### Q18. 実数が格納されたリストlを受け取ったときに、lに含まれる実数のうち、値が実数値xからy（ただし、x <= y）の範囲内にある数の個数（度数）を返す関数freq(l, x, y)を実装せよ。さらに、実装した関数freqを用いて、変数valuesに格納された実数のうち、値が10から20の範囲内にある数の度数を求めよ。"
   ]
  },
  {
   "cell_type": "code",
   "execution_count": 103,
   "metadata": {},
   "outputs": [],
   "source": [
    "def freq(l, x, y):\n",
    "    if x > y:\n",
    "        return False\n",
    "    count = 0\n",
    "    for num in l:\n",
    "        if num >= x and num < y:\n",
    "            count += 1\n",
    "    return count"
   ]
  },
  {
   "cell_type": "code",
   "execution_count": 104,
   "metadata": {},
   "outputs": [
    {
     "name": "stdout",
     "output_type": "stream",
     "text": [
      "40\n"
     ]
    }
   ],
   "source": [
    "print(freq(values, 10, 20))"
   ]
  },
  {
   "cell_type": "markdown",
   "metadata": {},
   "source": [
    "### Q19. 実数が格納されたリストlに含まれる数の最小値をx、最大値をyとする。区間(x, y)をn個に均等分割したとき、それぞれの区間の始まりと終わりの値のペアのリストを返す関数bins(l, n)を定義せよ。（例えば、l=[-2, -10, 3, 10, 5]が与えられたとき、関数bins(l, 2)は[(-10, 0), (0, 10)]を返す）さらに、変数valuesに格納された数の最小値xと最大値yを両端とする区間を20個に均等分割したときの、各区間の始まりと終わりの値のペアのリストを、関数binsを用いて求めよ。"
   ]
  },
  {
   "cell_type": "code",
   "execution_count": 83,
   "metadata": {},
   "outputs": [],
   "source": [
    "def bins(values, n):\n",
    "    max_value = max(values)\n",
    "    min_value = min(values)\n",
    "    range_value = abs((max_value - min_value) / n)\n",
    "    bins_list = []\n",
    "    for i in range(1, n+1):\n",
    "        if i == 1:\n",
    "            bins_list.append((min_value, min_value+range_value))\n",
    "        elif i == n:\n",
    "            bins_list.append((round(bins_list[-1][1], 1), max_value))\n",
    "        else:\n",
    "            bins_list.append((round(bins_list[-1][1], 1), round(bins_list[-1][1] + range_value, 1)))\n",
    "    return bins_list"
   ]
  },
  {
   "cell_type": "code",
   "execution_count": 84,
   "metadata": {},
   "outputs": [
    {
     "name": "stdout",
     "output_type": "stream",
     "text": [
      "[(-10, 0.0), (0.0, 10)]\n"
     ]
    }
   ],
   "source": [
    "test2 = [-2, -10, 3, 10, 5]\n",
    "print(bins(test2, 2))"
   ]
  },
  {
   "cell_type": "code",
   "execution_count": 85,
   "metadata": {},
   "outputs": [
    {
     "name": "stdout",
     "output_type": "stream",
     "text": [
      "[(-111, -95.6), (-95.6, -80.2), (-80.2, -64.8), (-64.8, -49.4), (-49.4, -34.0), (-34.0, -18.6), (-18.6, -3.2), (-3.2, 12.2), (12.2, 27.6), (27.6, 43.0), (43.0, 58.4), (58.4, 73.8), (73.8, 89.2), (89.2, 104.6), (104.6, 120.0), (120.0, 135.4), (135.4, 150.8), (150.8, 166.2), (166.2, 181.6), (181.6, 197)]\n"
     ]
    }
   ],
   "source": [
    "print(bins(values, 20))"
   ]
  },
  {
   "cell_type": "code",
   "execution_count": 86,
   "metadata": {},
   "outputs": [
    {
     "name": "stdout",
     "output_type": "stream",
     "text": [
      "[-111.   -95.6  -80.2  -64.8  -49.4  -34.   -18.6   -3.2   12.2   27.6\n",
      "   43.    58.4   73.8   89.2  104.6  120.   135.4  150.8  166.2  181.6\n",
      "  197. ]\n"
     ]
    }
   ],
   "source": [
    "print(np.linspace(min(values), max(values), 21))"
   ]
  },
  {
   "cell_type": "markdown",
   "metadata": {},
   "source": [
    "### Q.20 実数が格納されたリストlに含まれる数の最小値をx、最大値をyとする。区間(x, y)をn個に均等分割したとき、lに含まれる数のうち、それぞれの区間内に収まる数の個数を求め、その個数を以下のようにアスタリスク(*)で可視化する関数histogram(l, n)を実装せよ。さらに、関数histogramを用いて、変数valuesに格納された数の最小値xと最大値yを両端とする区間を20個に均等分割したときの各区間に収まる数の個数を可視化せよ。"
   ]
  },
  {
   "cell_type": "code",
   "execution_count": 89,
   "metadata": {},
   "outputs": [],
   "source": [
    "def histgram(values, n):\n",
    "    bins_list = bins(values, n)\n",
    "    dct = {}\n",
    "    for value in values:\n",
    "        for bin in bins_list:\n",
    "            if value > bin[0] and value <= bin[1]:\n",
    "                if bin in dct:\n",
    "                    dct[bin] += '*'\n",
    "                else:\n",
    "                    dct[bin] = '*'\n",
    "    return dct"
   ]
  },
  {
   "cell_type": "code",
   "execution_count": 113,
   "metadata": {},
   "outputs": [
    {
     "name": "stdout",
     "output_type": "stream",
     "text": [
      "( 0, 10) **\n",
      "(10, 20) ***\n",
      "(20, 30) *****\n",
      "(30, 40) **\n",
      "(40, 50) **\n"
     ]
    }
   ],
   "source": [
    "test3 = [0, 1, 3, 11, 13, 13, 21, 27, 27, 28, 29, 33, 39, 42, 50]\n",
    "q20 = histgram(test3, 5)\n",
    "for key, value in q20.items():\n",
    "    print(f'({key[0]:2.0f}, {key[1]:2.0f}) {value}')"
   ]
  },
  {
   "cell_type": "code",
   "execution_count": null,
   "metadata": {},
   "outputs": [],
   "source": []
  }
 ],
 "metadata": {
  "kernelspec": {
   "display_name": "Python 3",
   "language": "python",
   "name": "python3"
  },
  "language_info": {
   "codemirror_mode": {
    "name": "ipython",
    "version": 3
   },
   "file_extension": ".py",
   "mimetype": "text/x-python",
   "name": "python",
   "nbconvert_exporter": "python",
   "pygments_lexer": "ipython3",
   "version": "3.8.5"
  }
 },
 "nbformat": 4,
 "nbformat_minor": 4
}
