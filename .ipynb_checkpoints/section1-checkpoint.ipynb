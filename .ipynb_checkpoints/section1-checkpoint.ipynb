{
 "cells": [
  {
   "cell_type": "markdown",
   "metadata": {},
   "source": [
    "### Q1. 1からNまでの整数和を求める関数sumを作成せよ。"
   ]
  },
  {
   "cell_type": "code",
   "execution_count": 16,
   "metadata": {},
   "outputs": [],
   "source": [
    "def sum(n):\n",
    "    result = 0\n",
    "    for i in range(n+1):\n",
    "        result += i\n",
    "    return result"
   ]
  },
  {
   "cell_type": "code",
   "execution_count": 19,
   "metadata": {},
   "outputs": [
    {
     "data": {
      "text/plain": [
       "55"
      ]
     },
     "execution_count": 19,
     "metadata": {},
     "output_type": "execute_result"
    }
   ],
   "source": [
    "sum(10)"
   ]
  },
  {
   "cell_type": "markdown",
   "metadata": {},
   "source": [
    "### Q2. 97の正の平方根をmathモジュールを使わずに力づくで求めよ。なお、求める解は、その二乗と97との差が0.001以内に収まるように求めよ。"
   ]
  },
  {
   "cell_type": "code",
   "execution_count": 84,
   "metadata": {},
   "outputs": [
    {
     "name": "stdout",
     "output_type": "stream",
     "text": [
      "9.848857801796104\n"
     ]
    },
    {
     "data": {
      "text/plain": [
       "True"
      ]
     },
     "execution_count": 84,
     "metadata": {},
     "output_type": "execute_result"
    }
   ],
   "source": [
    "import math\n",
    "\n",
    "num = 97\n",
    "sqrt_num = 97 ** 0.5\n",
    "print(sqrt_num)\n",
    "sqrt_num**2 - num < 0.001"
   ]
  },
  {
   "cell_type": "code",
   "execution_count": 85,
   "metadata": {},
   "outputs": [
    {
     "name": "stdout",
     "output_type": "stream",
     "text": [
      "9.848899999990385\n"
     ]
    }
   ],
   "source": [
    "# Answer\n",
    "root = 0\n",
    "\n",
    "while True:\n",
    "    delta = abs(97 - root ** 2)\n",
    "    if delta < 0.001:\n",
    "        break\n",
    "    else:\n",
    "        root += 0.0001\n",
    "        \n",
    "print(root)"
   ]
  },
  {
   "cell_type": "markdown",
   "metadata": {},
   "source": [
    "### Q3. 変数x, yを受け取り「xの価格はy円（税込）」という文字列を返す関数を作成せよ"
   ]
  },
  {
   "cell_type": "code",
   "execution_count": 25,
   "metadata": {},
   "outputs": [],
   "source": [
    "def display_price(x, y):\n",
    "    print(f'{x}の価格は{y}円（税込み）')"
   ]
  },
  {
   "cell_type": "code",
   "execution_count": 28,
   "metadata": {},
   "outputs": [
    {
     "name": "stdout",
     "output_type": "stream",
     "text": [
      "消しゴムの価格は110円（税込み）\n"
     ]
    }
   ],
   "source": [
    "display_price('消しゴム', 110)"
   ]
  },
  {
   "cell_type": "markdown",
   "metadata": {},
   "source": [
    "### Q4. 文字列\"Rats live on no evil star\"の文字を逆に並べた文字列を表示せよ。"
   ]
  },
  {
   "cell_type": "code",
   "execution_count": 33,
   "metadata": {},
   "outputs": [
    {
     "name": "stdout",
     "output_type": "stream",
     "text": [
      "rats live on no evil staR "
     ]
    }
   ],
   "source": [
    "s = \"Rats live on no evil star\"\n",
    "s = s.split(' ')\n",
    "for word in s[::-1]:\n",
    "    print(word[::-1], end=' ')"
   ]
  },
  {
   "cell_type": "markdown",
   "metadata": {},
   "source": [
    "### Q5. \"Now I need a drink, alcoholic of course, after the heavy lectures involving quantum mechanics.\"という文を単語に分解し、各単語の（アルファベットの）文字数を先頭から出現順に並べたリストを作成せよ"
   ]
  },
  {
   "cell_type": "code",
   "execution_count": 91,
   "metadata": {},
   "outputs": [
    {
     "data": {
      "text/plain": [
       "[3, 1, 4, 1, 5, 9, 2, 6, 5, 3, 5, 8, 9, 7, 9]"
      ]
     },
     "execution_count": 91,
     "metadata": {},
     "output_type": "execute_result"
    }
   ],
   "source": [
    "s = \"Now I need a drink, alcoholic of course, after the heavy lectures involving quantum mechanics.\"\n",
    "s = s.replace(',', '').replace('.', '').split(' ')\n",
    "\n",
    "len_word = []\n",
    "\n",
    "for word in s:\n",
    "    len_word.append(len(word))\n",
    "\n",
    "len_word"
   ]
  },
  {
   "cell_type": "markdown",
   "metadata": {},
   "source": [
    "### Q6. 任意の文字列に含まれる文字の出現頻度を求める関数count_charを作成せよ。なお、返り値は、キーが文字、値が出現頻度に対応した辞書オブジェクト形式にせよ（例：\"I have a pen\" -> {'I': 1, ' ': 3, 'h': 1, 'a': 2, 'v': 1, 'e': 2, 'p': 1, 'n': 1}）。"
   ]
  },
  {
   "cell_type": "code",
   "execution_count": 50,
   "metadata": {},
   "outputs": [],
   "source": [
    "def count_char(s):\n",
    "    dct = {}\n",
    "    for letter in s:\n",
    "        if letter in dct:\n",
    "            dct[letter] += 1\n",
    "        else:\n",
    "            dct[letter] = 1\n",
    "    return dct"
   ]
  },
  {
   "cell_type": "code",
   "execution_count": 51,
   "metadata": {},
   "outputs": [
    {
     "data": {
      "text/plain": [
       "{'I': 1, ' ': 3, 'h': 1, 'a': 2, 'v': 1, 'e': 2, 'p': 1, 'n': 1}"
      ]
     },
     "execution_count": 51,
     "metadata": {},
     "output_type": "execute_result"
    }
   ],
   "source": [
    "count_char(\"I have a pen\")"
   ]
  },
  {
   "cell_type": "code",
   "execution_count": 92,
   "metadata": {},
   "outputs": [
    {
     "name": "stdout",
     "output_type": "stream",
     "text": [
      "任意の文字列を入力してください:I have a pen\n",
      "{'I': 1, ' ': 3, 'h': 1, 'a': 2, 'v': 1, 'e': 2, 'p': 1, 'n': 1}\n"
     ]
    }
   ],
   "source": [
    "# Answer\n",
    "def count_char(text):\n",
    "    chars = list(text)\n",
    "    frequency = {}\n",
    "    for char in chars:\n",
    "        frequency.setdefault(char, 0)\n",
    "        frequency[char] += 1\n",
    "    return frequency\n",
    "\n",
    "text = input(\"任意の文字列を入力してください:\")\n",
    "frequency = count_char(text)\n",
    "print(frequency)"
   ]
  },
  {
   "cell_type": "markdown",
   "metadata": {},
   "source": [
    "### Q7. data/introduction_assignmentディレクトリにあるpopulation-abstract2010-2015.csvを読み込み、その内容を一行ずつ表示せよ。"
   ]
  },
  {
   "cell_type": "code",
   "execution_count": 61,
   "metadata": {},
   "outputs": [
    {
     "name": "stdout",
     "output_type": "stream",
     "text": [
      "id,area_name,population2015,population2010,household2015,household2010\n",
      "1000,北海道,5381733,5506419,2444810,2424317\n",
      "2000,青森県,1308265,1373339,510945,513385\n",
      "3000,岩手県,1279594,1330147,493049,483934\n",
      "4000,宮城県,2333899,2348165,944720,901862\n",
      "5000,秋田県,1023119,1085997,388560,390136\n",
      "6000,山形県,1123891,1168924,393396,388608\n",
      "7000,福島県,1914039,2029064,737598,720794\n",
      "8000,茨城県,2916976,2969770,1124349,1088411\n",
      "9000,栃木県,1974255,2007683,763097,745604\n",
      "10000,群馬県,1973115,2008068,773952,755756\n",
      "11000,埼玉県,7266534,7194556,2971659,2841595\n",
      "12000,千葉県,6222666,6216289,2609132,2515904\n",
      "13000,東京都,13515271,13159417,6701122,6393781\n",
      "14000,神奈川県,9126214,9048302,3979278,3844512\n",
      "15000,新潟県,2304264,2374450,848150,839039\n",
      "16000,富山県,1066328,1093247,391171,383439\n",
      "17000,石川県,1154008,1169788,453368,441170\n",
      "18000,福井県,786740,806314,279687,275599\n",
      "19000,山梨県,834930,863075,330976,327721\n",
      "20000,長野県,2098804,2152449,807108,794461\n",
      "21000,岐阜県,2031903,2080773,753212,737151\n",
      "22000,静岡県,3700305,3765007,1429600,1399140\n",
      "23000,愛知県,7483128,7410719,3063833,2933802\n",
      "24000,三重県,1815865,1854724,720292,704607\n",
      "25000,滋賀県,1412916,1410777,537550,517748\n",
      "26000,京都府,2610353,2636092,1152902,1122057\n",
      "27000,大阪府,8839469,8865245,3923887,3832386\n",
      "28000,兵庫県,5534800,5588133,2315200,2255318\n",
      "29000,奈良県,1364316,1400728,530221,523523\n",
      "30000,和歌山県,963579,1002198,392332,393553\n",
      "31000,鳥取県,573441,588667,216894,211964\n",
      "32000,島根県,694352,717397,265008,262219\n",
      "33000,岡山県,1921525,1945276,772977,754511\n",
      "34000,広島県,2843990,2860750,1211425,1184967\n",
      "35000,山口県,1404729,1451338,598834,597432\n",
      "36000,徳島県,755733,785491,305754,302294\n",
      "37000,香川県,976263,995842,398551,390474\n",
      "38000,愛媛県,1385262,1431493,591972,590888\n",
      "39000,高知県,728276,764456,319011,321909\n",
      "40000,福岡県,5101556,5071968,2201037,2110468\n",
      "41000,佐賀県,832832,849788,302109,295038\n",
      "42000,長崎県,1377187,1426779,560720,558660\n",
      "43000,熊本県,1786170,1817426,704730,688234\n",
      "44000,大分県,1166338,1196529,486535,482051\n",
      "45000,宮崎県,1104069,1135233,462858,460505\n",
      "46000,鹿児島県,1648177,1706242,724690,729386\n",
      "47000,沖縄県,1433566,1392818,560424,520191\n"
     ]
    }
   ],
   "source": [
    "with open('data/introduction_assignment/population-abstract2010-2015.csv', 'r', encoding='utf-8') as f:\n",
    "    rows = f.readlines()\n",
    "    for row in rows:\n",
    "        print(row.rstrip())"
   ]
  },
  {
   "cell_type": "markdown",
   "metadata": {},
   "source": [
    "### Q8. Q7で用いたCSVファイルは、下記項目からなる人口統計データである。当該CSVデータから、都道府県名をキー、2015年調査時と2010年調査時の人口増減数を値とする辞書オブジェクトpopulationを作成せよ。"
   ]
  },
  {
   "cell_type": "code",
   "execution_count": 93,
   "metadata": {},
   "outputs": [
    {
     "name": "stdout",
     "output_type": "stream",
     "text": [
      "{'北海道': 124686, '青森県': 65074, '岩手県': 50553, '宮城県': 14266, '秋田県': 62878, '山形県': 45033, '福島県': 115025, '茨城県': 52794, '栃木県': 33428, '群馬県': 34953, '埼玉県': -71978, '千葉県': -6377, '東京都': -355854, '神奈川県': -77912, '新潟県': 70186, '富山県': 26919, '石川県': 15780, '福井県': 19574, '山梨県': 28145, '長野県': 53645, '岐阜県': 48870, '静岡県': 64702, '愛知県': -72409, '三重県': 38859, '滋賀県': -2139, '京都府': 25739, '大阪府': 25776, '兵庫県': 53333, '奈良県': 36412, '和歌山県': 38619, '鳥取県': 15226, '島根県': 23045, '岡山県': 23751, '広島県': 16760, '山口県': 46609, '徳島県': 29758, '香川県': 19579, '愛媛県': 46231, '高知県': 36180, '福岡県': -29588, '佐賀県': 16956, '長崎県': 49592, '熊本県': 31256, '大分県': 30191, '宮崎県': 31164, '鹿児島県': 58065, '沖縄県': -40748}\n"
     ]
    }
   ],
   "source": [
    "with open('data/introduction_assignment/population-abstract2010-2015.csv', 'r', encoding='utf-8') as f:\n",
    "    rows = f.readlines()\n",
    "    dct = {}\n",
    "    for row in rows[1:]:\n",
    "        raw_data = row.rstrip().split(',')\n",
    "        dct[raw_data[1]] = int(raw_data[3]) - int(raw_data[2])\n",
    "    print(dct)"
   ]
  },
  {
   "cell_type": "markdown",
   "metadata": {},
   "source": [
    "### Q9. Q7で用いたCSVファイルを利用して、2010年度調査から2015年度調査の間で人口増減数が大きかった都道府県を増減数付で上位10件を表示せよ。表示は「30位: 京都府（25739人）」という形式で行うこと。"
   ]
  },
  {
   "cell_type": "code",
   "execution_count": 94,
   "metadata": {},
   "outputs": [
    {
     "name": "stdout",
     "output_type": "stream",
     "text": [
      "1位: 東京都(-355854人)\n",
      "2位: 北海道(124686人)\n",
      "3位: 福島県(115025人)\n",
      "4位: 神奈川県(-77912人)\n",
      "5位: 愛知県(-72409人)\n",
      "6位: 埼玉県(-71978人)\n",
      "7位: 新潟県(70186人)\n",
      "8位: 青森県(65074人)\n",
      "9位: 静岡県(64702人)\n",
      "10位: 秋田県(62878人)\n"
     ]
    }
   ],
   "source": [
    "with open('data/introduction_assignment/population-abstract2010-2015.csv', 'r', encoding='utf-8') as f:\n",
    "    rows = f.readlines()\n",
    "    dct = {}\n",
    "    for row in rows[1:]:\n",
    "        raw_data = row.rstrip().split(',')\n",
    "        dct[raw_data[1]] = int(raw_data[3]) - int(raw_data[2])\n",
    "\n",
    "sorted_key = sorted(dct, key=lambda dict_key: abs(dct[dict_key]), reverse=True)\n",
    "\n",
    "for n in range(10):\n",
    "    print(f'{n+1}位: {sorted_key[n]}({dct[sorted_key[n]]}人)')"
   ]
  },
  {
   "cell_type": "markdown",
   "metadata": {},
   "source": [
    "### Q10. Q7,Q8,Q9で用いた2015年度の国勢調査データを用いて、都道府県名、各都道府県の2010年度調査から2015年度調査の間で人口増減数について、TSV形式でファイル保存せよ。"
   ]
  },
  {
   "cell_type": "code",
   "execution_count": 79,
   "metadata": {},
   "outputs": [],
   "source": [
    "with open('data/output/q10_answer.tsv', 'w', encoding='utf-8') as f:\n",
    "    f.write('prefectre,population_change\\n')\n",
    "    for key in dct:\n",
    "        s = key + ',' + str(dct[key]) + '\\n'\n",
    "        f.write(s)"
   ]
  },
  {
   "cell_type": "code",
   "execution_count": 80,
   "metadata": {},
   "outputs": [
    {
     "name": "stdout",
     "output_type": "stream",
     "text": [
      "['prefectre,population_change\\n', '北海道,-124686\\n', '青森県,-65074\\n', '岩手県,-50553\\n', '宮城県,-14266\\n', '秋田県,-62878\\n', '山形県,-45033\\n', '福島県,-115025\\n', '茨城県,-52794\\n', '栃木県,-33428\\n', '群馬県,-34953\\n', '埼玉県,71978\\n', '千葉県,6377\\n', '東京都,355854\\n', '神奈川県,77912\\n', '新潟県,-70186\\n', '富山県,-26919\\n', '石川県,-15780\\n', '福井県,-19574\\n', '山梨県,-28145\\n', '長野県,-53645\\n', '岐阜県,-48870\\n', '静岡県,-64702\\n', '愛知県,72409\\n', '三重県,-38859\\n', '滋賀県,2139\\n', '京都府,-25739\\n', '大阪府,-25776\\n', '兵庫県,-53333\\n', '奈良県,-36412\\n', '和歌山県,-38619\\n', '鳥取県,-15226\\n', '島根県,-23045\\n', '岡山県,-23751\\n', '広島県,-16760\\n', '山口県,-46609\\n', '徳島県,-29758\\n', '香川県,-19579\\n', '愛媛県,-46231\\n', '高知県,-36180\\n', '福岡県,29588\\n', '佐賀県,-16956\\n', '長崎県,-49592\\n', '熊本県,-31256\\n', '大分県,-30191\\n', '宮崎県,-31164\\n', '鹿児島県,-58065\\n', '沖縄県,40748\\n']\n"
     ]
    }
   ],
   "source": [
    "with open('data/output/q10_answer.tsv', 'r', encoding='utf-8') as f:\n",
    "    rows = f.readlines()\n",
    "    print(rows)"
   ]
  },
  {
   "cell_type": "code",
   "execution_count": null,
   "metadata": {},
   "outputs": [],
   "source": []
  }
 ],
 "metadata": {
  "kernelspec": {
   "display_name": "Python 3",
   "language": "python",
   "name": "python3"
  },
  "language_info": {
   "codemirror_mode": {
    "name": "ipython",
    "version": 3
   },
   "file_extension": ".py",
   "mimetype": "text/x-python",
   "name": "python",
   "nbconvert_exporter": "python",
   "pygments_lexer": "ipython3",
   "version": "3.8.5"
  }
 },
 "nbformat": 4,
 "nbformat_minor": 4
}
