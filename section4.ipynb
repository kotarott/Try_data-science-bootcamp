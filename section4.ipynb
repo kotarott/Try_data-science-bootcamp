{
 "cells": [
  {
   "cell_type": "markdown",
   "metadata": {},
   "source": [
    "### Q31. requestsライブラリを利用し、Yahoo!ファイナンス業種別銘柄一覧：サービス業のトップページのhtmlを取得し表示せよ。"
   ]
  },
  {
   "cell_type": "code",
   "execution_count": 1,
   "metadata": {},
   "outputs": [],
   "source": [
    "import requests\n",
    "\n",
    "url = \"https://finance.yahoo.co.jp/search/qi/?ids=9050\"\n",
    "\n",
    "request = requests.get(url)\n",
    "# print(request.text)"
   ]
  },
  {
   "cell_type": "markdown",
   "metadata": {},
   "source": [
    "### Q32. 課題Q31で取得したHTMLを解析して、サービス業を営む上場企業の銘柄コード、およびそれに対応する（ページアクセス時点での）株価のリストを20件を取得せよ。"
   ]
  },
  {
   "cell_type": "code",
   "execution_count": 2,
   "metadata": {},
   "outputs": [
    {
     "name": "stdout",
     "output_type": "stream",
     "text": [
      "1717:    703\n",
      "1954:  2,934\n",
      "2120:    234\n",
      "2121:  2,180\n",
      "2122:    912\n",
      "2124:  1,826\n",
      "2127:  1,653\n",
      "2130:  3,230\n",
      "2134:     28\n",
      "2136:    702\n",
      "2137:    795\n",
      "2139:    377\n",
      "2146:  2,900\n",
      "2148:  1,688\n",
      "2150:    930\n",
      "2152:  1,093\n",
      "2153:  1,162\n",
      "2154:  1,641\n",
      "2156:    256\n",
      "2157:    667\n"
     ]
    }
   ],
   "source": [
    "from pyquery import PyQuery as pq\n",
    "\n",
    "html = pq(request.text)\n",
    "data = html('#sr').children('div').children('ul').children('li').items()\n",
    "\n",
    "for i, element in enumerate(data):\n",
    "    code = element('a')('li').text().split(' ')[0]\n",
    "    price = element('a')('div span:first span').children('span').text()\n",
    "    print(f'{code}: {price: >6}')"
   ]
  },
  {
   "cell_type": "markdown",
   "metadata": {},
   "source": [
    "### Q33. Yahoo!ファイナンス業種別銘柄一覧：サービス業のサイトでは、1ページあたり最大20件の銘柄とその株価が表示される設計になっている。また「次の20件」をクリックすることで更に別の20件の銘柄を確認することができる。当該サイトのトップページのHTMLを解析し、ページ内に表示された「次の20件」リンクのURLを取得せよ。"
   ]
  },
  {
   "cell_type": "markdown",
   "metadata": {},
   "source": [
    "### Q34. Yahoo!ファイナンス業種別銘柄一覧：サービス業のサイトには、サービス業を営む400以上の企業（以下サービス系企業）の株価情報が掲載されている。上記サイトで閲覧可能なすべてのサービス系企業の（ページアクセス時点での）株価を取得せよ。ただし、出力は下記のように、株価が高い順に、銘柄コード名、株価のペアをタプル形式で表示するものとする。"
   ]
  },
  {
   "cell_type": "markdown",
   "metadata": {},
   "source": [
    "Q33,Q34については、次のページへの遷移がスクリプトで処理されるため、リンクは取得できなくなっている。Seleniumなどブラウザを直接操作するタイプのライブラリでないと対応できない？"
   ]
  },
  {
   "cell_type": "markdown",
   "metadata": {},
   "source": [
    "### Q35. 任意の銘柄コードstock_codeが与えられたとき、Yahoo!ファイナンスのウェブサイトをリアルタイムに解析することで、銘柄コードstock_codeに対応する企業名、現在の株価、および前日終値を返す関数get_stock_infoを実装せよ。なお、入力引数はstock_codeとする。また、出力は{'company': 企業名, \"current_stock_price\":現在の株価, \"last_close\":前日終値}という辞書形式で返すこと。また、出力は存在しない銘柄コードが入力された場合はNoneオブジェクトを出力せよ。"
   ]
  },
  {
   "cell_type": "code",
   "execution_count": 84,
   "metadata": {},
   "outputs": [],
   "source": [
    "def get_stock_info(stock_code):\n",
    "    url = 'https://finance.yahoo.co.jp/quote/' + stock_code\n",
    "    request = requests.get(url)\n",
    "    html = pq(request.text)\n",
    "    data01 = html('div._1nb3c4wQ').children('header')\n",
    "    data02 = html('dl._38iJU1zx').items()\n",
    "    data02 = pq([item for item in data02][0])\n",
    "\n",
    "    company = data01('h1').text()\n",
    "    current_stock_price = data01('span:first').text()\n",
    "    last_close = data02('dd').children('span:first span span').text()\n",
    "    result = {\n",
    "        'company': company,\n",
    "        'current_stock_price': current_stock_price,\n",
    "        'last_close': last_close\n",
    "    }\n",
    "    return result"
   ]
  },
  {
   "cell_type": "code",
   "execution_count": 85,
   "metadata": {},
   "outputs": [
    {
     "data": {
      "text/plain": [
       "{'company': 'Ｚホールディングス(株)',\n",
       " 'current_stock_price': '504.4',\n",
       " 'last_close': '504.7'}"
      ]
     },
     "execution_count": 85,
     "metadata": {},
     "output_type": "execute_result"
    }
   ],
   "source": [
    "get_stock_info('4689.T')"
   ]
  },
  {
   "cell_type": "markdown",
   "metadata": {},
   "source": [
    "### Q.36 CiNii Books APIを利用し、「お好み焼き」というキーワードに関する図書・雑誌リストを10件取得し、そのタイトルを出力せよ。\n",
    "\n",
    "ヒント1：CiNii Books APIに書かれているように、 http://ci.nii.ac.jp/books/opensearch/search?(パラメータ=値)&(パラメータ=値)&…&(パラメータ=値) にHTTPアクセスすることで、検索結果を取得することができる。  \n",
    "ヒント2：最低限使用するクエリパラメータは「フリーワードq」と「出力フォーマットformat」の2つ。"
   ]
  },
  {
   "cell_type": "code",
   "execution_count": 102,
   "metadata": {},
   "outputs": [
    {
     "name": "stdout",
     "output_type": "stream",
     "text": [
      "お好み焼き食べたい : 具とソースで満腹バリエ33種\n",
      "広島ベストスポット\n",
      "お好み焼きの物語 : 執念の調査が解き明かす新戦前史\n",
      "神戸とお好み焼き : まちづくりと比較都市論の視点から\n",
      "お好み焼きたこ焼きもんじゃ焼き&鉄板焼き\n",
      "「街的 (まちてき)」ということ : お好み焼き屋は街の学校だ\n",
      "浜内千波の野菜たっぷりやせる!お好み焼きダイエット\n",
      "お好み焼き90%たこ焼き10%の本 : 粉もん100%レシピ&店ガイド\n",
      "絶品お好み焼き : たこ焼き・もんじゃ焼き : 人気店の味を家で楽しむ\n",
      "お好み焼き繁盛店「鶴橋風月」成功のキーワード100\n"
     ]
    }
   ],
   "source": [
    "cn_endpoint = 'http://ci.nii.ac.jp/books/opensearch/search/'\n",
    "query = {\n",
    "    'q': 'お好み焼き',\n",
    "    'format': 'json',\n",
    "    'count': 10\n",
    " }\n",
    "\n",
    "response = requests.get(cn_endpoint, params=query)\n",
    "data = response.json()\n",
    "\n",
    "for item in data['@graph'][0]['items']:\n",
    "    print(item['title'])"
   ]
  },
  {
   "cell_type": "markdown",
   "metadata": {},
   "source": [
    "### Q37. CiNii Books APIを利用し、静岡県の図書館に蔵書されている図書・雑誌のリストを10000件取得し、出版年ごとに図書・雑誌のタイトル数を出力せよ。なお、出力は出版年が若い順に出版年、タイトル数のペアを表示するものとする。また、「19--」のように出版年が一部欠損しているものは出力結果から除外するものとする。"
   ]
  },
  {
   "cell_type": "code",
   "execution_count": 112,
   "metadata": {},
   "outputs": [
    {
     "name": "stdout",
     "output_type": "stream",
     "text": [
      "1873 : 1\n",
      "1875 : 1\n",
      "1876 : 1\n",
      "1877 : 1\n",
      "1878 : 1\n",
      "1881 : 1\n",
      "1882 : 1\n",
      "1883 : 1\n",
      "1885 : 1\n",
      "1886 : 1\n",
      "1887 : 2\n",
      "1890 : 1\n",
      "1894 : 3\n",
      "1895 : 5\n",
      "1896 : 4\n",
      "1897 : 1\n",
      "1898 : 1\n",
      "1899 : 2\n",
      "1900 : 1\n",
      "1901 : 1\n",
      "1903 : 5\n",
      "1904 : 2\n",
      "1905 : 5\n",
      "1906 : 4\n",
      "1907 : 1\n",
      "1908 : 8\n",
      "1909 : 4\n",
      "1910 : 8\n",
      "1911 : 5\n",
      "1912 : 3\n",
      "1913 : 3\n",
      "1914 : 9\n",
      "1915 : 8\n",
      "1916 : 5\n",
      "1917 : 8\n",
      "1918 : 4\n",
      "1919 : 9\n",
      "1920 : 6\n",
      "1921 : 9\n",
      "1922 : 7\n",
      "1923 : 17\n",
      "1924 : 32\n",
      "1925 : 19\n",
      "1926 : 21\n",
      "1927 : 25\n",
      "1928 : 25\n",
      "1929 : 29\n",
      "1930 : 21\n",
      "1931 : 19\n",
      "1932 : 28\n",
      "1933 : 40\n",
      "1934 : 29\n",
      "1935 : 19\n",
      "1936 : 31\n",
      "1937 : 38\n",
      "1938 : 33\n",
      "1939 : 72\n",
      "1940 : 98\n",
      "1941 : 50\n",
      "1942 : 45\n",
      "1943 : 60\n",
      "1944 : 60\n",
      "1945 : 12\n",
      "1946 : 21\n",
      "1947 : 47\n",
      "1948 : 81\n",
      "1949 : 69\n",
      "1950 : 60\n",
      "1951 : 58\n",
      "1952 : 69\n",
      "1953 : 45\n",
      "1954 : 44\n",
      "1955 : 75\n",
      "1956 : 84\n",
      "1957 : 79\n",
      "1958 : 79\n",
      "1959 : 65\n",
      "1960 : 57\n",
      "1961 : 39\n",
      "1962 : 55\n",
      "1963 : 65\n",
      "1964 : 96\n",
      "1965 : 53\n",
      "1966 : 51\n",
      "1967 : 46\n",
      "1968 : 39\n",
      "1969 : 36\n",
      "1970 : 31\n",
      "1971 : 39\n",
      "1972 : 38\n",
      "1973 : 32\n",
      "1974 : 32\n",
      "1975 : 35\n",
      "1976 : 32\n",
      "1977 : 53\n",
      "1978 : 48\n",
      "1979 : 48\n",
      "1980 : 53\n",
      "1981 : 47\n",
      "1982 : 63\n",
      "1983 : 75\n",
      "1984 : 68\n",
      "1985 : 47\n",
      "1986 : 54\n",
      "1987 : 58\n",
      "1988 : 56\n",
      "1989 : 42\n",
      "1990 : 49\n",
      "1991 : 52\n",
      "1992 : 74\n",
      "1993 : 92\n",
      "1994 : 197\n",
      "1995 : 266\n",
      "1996 : 3918\n",
      "1997 : 1921\n"
     ]
    }
   ],
   "source": [
    "cn_endpoint = 'http://ci.nii.ac.jp/books/opensearch/search/'\n",
    "query = {\n",
    "    'area': 22,\n",
    "    'count': 10000,\n",
    "    'format': 'json'\n",
    "}\n",
    "\n",
    "response = requests.get(cn_endpoint, params=query)\n",
    "data = response.json()['@graph'][0]['items']\n",
    "# print(data[0]['prism:publicationDate'])\n",
    "\n",
    "result = dict()\n",
    "for item in data:\n",
    "    try:\n",
    "        p_date = item['prism:publicationDate']\n",
    "        if(int(p_date)) in result:\n",
    "            result[int(p_date)] += 1\n",
    "        else:\n",
    "            result[int(p_date)] = 1\n",
    "    except:\n",
    "        pass\n",
    "\n",
    "result = sorted(result.items())\n",
    "\n",
    "for item in result:\n",
    "    print(item[0], ':', item[1])"
   ]
  },
  {
   "cell_type": "markdown",
   "metadata": {},
   "source": [
    "### Q38. Q36の課題で実装したコードを改良し、CiNii Books APIを利用し、任意のキーワードqueryが与えられたときに、それに関する図書・雑誌リストを10件取得し、そのタイトル、著者名、および書誌詳細ページのURL（例はコチラ）を返す関数simple_search_booksを実装せよ。なお、出力は{\"title\":タイトル, \"author\":著者名, \"detail_url\":書誌詳細ページのURL}という辞書のリストで行うものとする。また、キーワードにマッチする図書・雑誌がなかった場合はNoneオブジェクトを返すように実装せよ。\n",
    "\n"
   ]
  },
  {
   "cell_type": "code",
   "execution_count": 118,
   "metadata": {},
   "outputs": [],
   "source": [
    "def get_cinii_books(kw):\n",
    "    endpoint = 'http://ci.nii.ac.jp/books/opensearch/search/'\n",
    "    query = {\n",
    "        'q': kw,\n",
    "        'count': 10,\n",
    "        'format': 'json'\n",
    "    }\n",
    "    response = requests.get(endpoint, params=query)\n",
    "    result = list()\n",
    "    if response.status_code == 200:\n",
    "        for item in response.json()['@graph'][0]['items']:\n",
    "            data = {\n",
    "                'title': item['title'],\n",
    "                'author': item.get('dc:creator'),\n",
    "                'detail_url': item['@id']\n",
    "            }\n",
    "            result.append(data)\n",
    "        return result\n",
    "    else:\n",
    "        return None"
   ]
  },
  {
   "cell_type": "code",
   "execution_count": 119,
   "metadata": {},
   "outputs": [
    {
     "data": {
      "text/plain": [
       "[{'title': 'お好み焼き食べたい : 具とソースで満腹バリエ33種',\n",
       "  'author': None,\n",
       "  'detail_url': 'https://ci.nii.ac.jp/ncid/BB0521742X'},\n",
       " {'title': '広島ベストスポット',\n",
       "  'author': None,\n",
       "  'detail_url': 'https://ci.nii.ac.jp/ncid/BA67030282'},\n",
       " {'title': 'お好み焼きの物語 : 執念の調査が解き明かす新戦前史',\n",
       "  'author': '近代食文化研究会著',\n",
       "  'detail_url': 'https://ci.nii.ac.jp/ncid/BB27669877'},\n",
       " {'title': '神戸とお好み焼き : まちづくりと比較都市論の視点から',\n",
       "  'author': '三宅正弘著',\n",
       "  'detail_url': 'https://ci.nii.ac.jp/ncid/BA59464673'},\n",
       " {'title': 'お好み焼きたこ焼きもんじゃ焼き&鉄板焼き',\n",
       "  'author': None,\n",
       "  'detail_url': 'https://ci.nii.ac.jp/ncid/BA51542558'},\n",
       " {'title': '「街的 (まちてき)」ということ : お好み焼き屋は街の学校だ',\n",
       "  'author': '江弘毅著',\n",
       "  'detail_url': 'https://ci.nii.ac.jp/ncid/BA78012806'},\n",
       " {'title': '浜内千波の野菜たっぷりやせる!お好み焼きダイエット',\n",
       "  'author': '浜内千波著',\n",
       "  'detail_url': 'https://ci.nii.ac.jp/ncid/BB04061314'},\n",
       " {'title': 'お好み焼き90%たこ焼き10%の本 : 粉もん100%レシピ&店ガイド',\n",
       "  'author': None,\n",
       "  'detail_url': 'https://ci.nii.ac.jp/ncid/BB02645347'},\n",
       " {'title': '絶品お好み焼き : たこ焼き・もんじゃ焼き : 人気店の味を家で楽しむ',\n",
       "  'author': '成美堂出版編集部編',\n",
       "  'detail_url': 'https://ci.nii.ac.jp/ncid/BB00369635'},\n",
       " {'title': 'お好み焼き繁盛店「鶴橋風月」成功のキーワード100',\n",
       "  'author': '市川徹, 橘恭輔著',\n",
       "  'detail_url': 'https://ci.nii.ac.jp/ncid/BA86294656'}]"
      ]
     },
     "execution_count": 119,
     "metadata": {},
     "output_type": "execute_result"
    }
   ],
   "source": [
    "get_cinii_books('お好み焼き')"
   ]
  },
  {
   "cell_type": "code",
   "execution_count": null,
   "metadata": {},
   "outputs": [],
   "source": []
  }
 ],
 "metadata": {
  "kernelspec": {
   "display_name": "Python 3",
   "language": "python",
   "name": "python3"
  },
  "language_info": {
   "codemirror_mode": {
    "name": "ipython",
    "version": 3
   },
   "file_extension": ".py",
   "mimetype": "text/x-python",
   "name": "python",
   "nbconvert_exporter": "python",
   "pygments_lexer": "ipython3",
   "version": "3.8.5"
  }
 },
 "nbformat": 4,
 "nbformat_minor": 4
}
