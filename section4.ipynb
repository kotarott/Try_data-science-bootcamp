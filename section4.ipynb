{
 "cells": [
  {
   "cell_type": "markdown",
   "metadata": {},
   "source": [
    "### Q31. requestsライブラリを利用し、Yahoo!ファイナンス業種別銘柄一覧：サービス業のトップページのhtmlを取得し表示せよ。"
   ]
  },
  {
   "cell_type": "code",
   "execution_count": 1,
   "metadata": {},
   "outputs": [],
   "source": [
    "import requests\n",
    "\n",
    "url = \"https://finance.yahoo.co.jp/search/qi/?ids=9050\"\n",
    "\n",
    "request = requests.get(url)\n",
    "# print(request.text)"
   ]
  },
  {
   "cell_type": "markdown",
   "metadata": {},
   "source": [
    "### Q32. 課題Q31で取得したHTMLを解析して、サービス業を営む上場企業の銘柄コード、およびそれに対応する（ページアクセス時点での）株価のリストを20件を取得せよ。"
   ]
  },
  {
   "cell_type": "code",
   "execution_count": 2,
   "metadata": {},
   "outputs": [
    {
     "name": "stdout",
     "output_type": "stream",
     "text": [
      "1717:    727\n",
      "1954:  2,932\n",
      "2120:    236\n",
      "2121:  2,229\n",
      "2122:    915\n",
      "2124:  1,857\n",
      "2127:  1,717\n",
      "2130:  3,325\n",
      "2134:     30\n",
      "2136:    703\n",
      "2137:    795\n",
      "2139:    374\n",
      "2146:  2,920\n",
      "2148:  1,725\n",
      "2150:    950\n",
      "2152:  1,135\n",
      "2153:  1,165\n",
      "2154:  1,686\n",
      "2156:    258\n",
      "2157:    769\n"
     ]
    }
   ],
   "source": [
    "from pyquery import PyQuery as pq\n",
    "\n",
    "html = pq(request.text)\n",
    "data = html('#sr').children('div').children('ul').children('li').items()\n",
    "\n",
    "for i, element in enumerate(data):\n",
    "    code = element('a')('li').text().split(' ')[0]\n",
    "    price = element('a')('div span:first span').children('span').text()\n",
    "    print(f'{code}: {price: >6}')"
   ]
  },
  {
   "cell_type": "markdown",
   "metadata": {},
   "source": [
    "### Q33. Yahoo!ファイナンス業種別銘柄一覧：サービス業のサイトでは、1ページあたり最大20件の銘柄とその株価が表示される設計になっている。また「次の20件」をクリックすることで更に別の20件の銘柄を確認することができる。当該サイトのトップページのHTMLを解析し、ページ内に表示された「次の20件」リンクのURLを取得せよ。"
   ]
  },
  {
   "cell_type": "markdown",
   "metadata": {},
   "source": [
    "### Q34. Yahoo!ファイナンス業種別銘柄一覧：サービス業のサイトには、サービス業を営む400以上の企業（以下サービス系企業）の株価情報が掲載されている。上記サイトで閲覧可能なすべてのサービス系企業の（ページアクセス時点での）株価を取得せよ。ただし、出力は下記のように、株価が高い順に、銘柄コード名、株価のペアをタプル形式で表示するものとする。"
   ]
  },
  {
   "cell_type": "markdown",
   "metadata": {},
   "source": [
    "Q33,Q34については、次のページへの遷移がスクリプトで処理されるため、リンクは取得できなくなっている。Seleniumなどブラウザを直接操作するタイプのライブラリでないと対応できない？"
   ]
  },
  {
   "cell_type": "markdown",
   "metadata": {},
   "source": [
    "### Q35. 任意の銘柄コードstock_codeが与えられたとき、Yahoo!ファイナンスのウェブサイトをリアルタイムに解析することで、銘柄コードstock_codeに対応する企業名、現在の株価、および前日終値を返す関数get_stock_infoを実装せよ。なお、入力引数はstock_codeとする。また、出力は{'company': 企業名, \"current_stock_price\":現在の株価, \"last_close\":前日終値}という辞書形式で返すこと。また、出力は存在しない銘柄コードが入力された場合はNoneオブジェクトを出力せよ。"
   ]
  },
  {
   "cell_type": "code",
   "execution_count": 3,
   "metadata": {},
   "outputs": [],
   "source": [
    "def get_stock_info(stock_code):\n",
    "    url = 'https://finance.yahoo.co.jp/quote/' + stock_code\n",
    "    request = requests.get(url)\n",
    "    html = pq(request.text)\n",
    "    data01 = html('div._1nb3c4wQ').children('header')\n",
    "    data02 = html('dl._38iJU1zx').items()\n",
    "    data02 = pq([item for item in data02][0])\n",
    "\n",
    "    company = data01('h1').text()\n",
    "    current_stock_price = data01('span:first').text()\n",
    "    last_close = data02('dd').children('span:first span span').text()\n",
    "    result = {\n",
    "        'company': company,\n",
    "        'current_stock_price': current_stock_price,\n",
    "        'last_close': last_close\n",
    "    }\n",
    "    return result"
   ]
  },
  {
   "cell_type": "code",
   "execution_count": 4,
   "metadata": {},
   "outputs": [
    {
     "data": {
      "text/plain": [
       "{'company': 'Ｚホールディングス(株)',\n",
       " 'current_stock_price': '517.8',\n",
       " 'last_close': '513.8'}"
      ]
     },
     "execution_count": 4,
     "metadata": {},
     "output_type": "execute_result"
    }
   ],
   "source": [
    "get_stock_info('4689.T')"
   ]
  },
  {
   "cell_type": "markdown",
   "metadata": {},
   "source": [
    "### Q.36 CiNii Books APIを利用し、「お好み焼き」というキーワードに関する図書・雑誌リストを10件取得し、そのタイトルを出力せよ。\n",
    "\n",
    "ヒント1：CiNii Books APIに書かれているように、 http://ci.nii.ac.jp/books/opensearch/search?(パラメータ=値)&(パラメータ=値)&…&(パラメータ=値) にHTTPアクセスすることで、検索結果を取得することができる。  \n",
    "ヒント2：最低限使用するクエリパラメータは「フリーワードq」と「出力フォーマットformat」の2つ。"
   ]
  },
  {
   "cell_type": "code",
   "execution_count": 5,
   "metadata": {},
   "outputs": [
    {
     "name": "stdout",
     "output_type": "stream",
     "text": [
      "お好み焼き食べたい : 具とソースで満腹バリエ33種\n",
      "広島ベストスポット\n",
      "お好み焼きの物語 : 執念の調査が解き明かす新戦前史\n",
      "神戸とお好み焼き : まちづくりと比較都市論の視点から\n",
      "お好み焼きたこ焼きもんじゃ焼き&鉄板焼き\n",
      "「街的 (まちてき)」ということ : お好み焼き屋は街の学校だ\n",
      "浜内千波の野菜たっぷりやせる!お好み焼きダイエット\n",
      "お好み焼き90%たこ焼き10%の本 : 粉もん100%レシピ&店ガイド\n",
      "絶品お好み焼き : たこ焼き・もんじゃ焼き : 人気店の味を家で楽しむ\n",
      "お好み焼き繁盛店「鶴橋風月」成功のキーワード100\n"
     ]
    }
   ],
   "source": [
    "cn_endpoint = 'http://ci.nii.ac.jp/books/opensearch/search/'\n",
    "query = {\n",
    "    'q': 'お好み焼き',\n",
    "    'format': 'json',\n",
    "    'count': 10\n",
    " }\n",
    "\n",
    "response = requests.get(cn_endpoint, params=query)\n",
    "data = response.json()\n",
    "\n",
    "for item in data['@graph'][0]['items']:\n",
    "    print(item['title'])"
   ]
  },
  {
   "cell_type": "markdown",
   "metadata": {},
   "source": [
    "### Q37. CiNii Books APIを利用し、静岡県の図書館に蔵書されている図書・雑誌のリストを10000件取得し、出版年ごとに図書・雑誌のタイトル数を出力せよ。なお、出力は出版年が若い順に出版年、タイトル数のペアを表示するものとする。また、「19--」のように出版年が一部欠損しているものは出力結果から除外するものとする。"
   ]
  },
  {
   "cell_type": "code",
   "execution_count": 6,
   "metadata": {},
   "outputs": [
    {
     "name": "stdout",
     "output_type": "stream",
     "text": [
      "1873 : 1\n",
      "1875 : 1\n",
      "1876 : 1\n",
      "1877 : 1\n",
      "1878 : 1\n",
      "1881 : 1\n",
      "1882 : 1\n",
      "1883 : 1\n",
      "1885 : 1\n",
      "1886 : 1\n",
      "1887 : 2\n",
      "1890 : 1\n",
      "1894 : 3\n",
      "1895 : 5\n",
      "1896 : 4\n",
      "1897 : 1\n",
      "1898 : 1\n",
      "1899 : 2\n",
      "1900 : 1\n",
      "1901 : 1\n",
      "1903 : 5\n",
      "1904 : 2\n",
      "1905 : 5\n",
      "1906 : 4\n",
      "1907 : 1\n",
      "1908 : 8\n",
      "1909 : 4\n",
      "1910 : 8\n",
      "1911 : 5\n",
      "1912 : 3\n",
      "1913 : 3\n",
      "1914 : 9\n",
      "1915 : 8\n",
      "1916 : 5\n",
      "1917 : 8\n",
      "1918 : 4\n",
      "1919 : 9\n",
      "1920 : 6\n",
      "1921 : 9\n",
      "1922 : 7\n",
      "1923 : 17\n",
      "1924 : 32\n",
      "1925 : 19\n",
      "1926 : 21\n",
      "1927 : 25\n",
      "1928 : 25\n",
      "1929 : 29\n",
      "1930 : 21\n",
      "1931 : 19\n",
      "1932 : 28\n",
      "1933 : 40\n",
      "1934 : 29\n",
      "1935 : 19\n",
      "1936 : 31\n",
      "1937 : 38\n",
      "1938 : 33\n",
      "1939 : 72\n",
      "1940 : 98\n",
      "1941 : 50\n",
      "1942 : 45\n",
      "1943 : 60\n",
      "1944 : 60\n",
      "1945 : 12\n",
      "1946 : 21\n",
      "1947 : 47\n",
      "1948 : 81\n",
      "1949 : 69\n",
      "1950 : 60\n",
      "1951 : 58\n",
      "1952 : 69\n",
      "1953 : 45\n",
      "1954 : 44\n",
      "1955 : 75\n",
      "1956 : 84\n",
      "1957 : 79\n",
      "1958 : 79\n",
      "1959 : 65\n",
      "1960 : 57\n",
      "1961 : 39\n",
      "1962 : 55\n",
      "1963 : 65\n",
      "1964 : 96\n",
      "1965 : 53\n",
      "1966 : 51\n",
      "1967 : 46\n",
      "1968 : 39\n",
      "1969 : 36\n",
      "1970 : 31\n",
      "1971 : 39\n",
      "1972 : 38\n",
      "1973 : 32\n",
      "1974 : 32\n",
      "1975 : 35\n",
      "1976 : 32\n",
      "1977 : 53\n",
      "1978 : 48\n",
      "1979 : 48\n",
      "1980 : 53\n",
      "1981 : 47\n",
      "1982 : 63\n",
      "1983 : 75\n",
      "1984 : 68\n",
      "1985 : 47\n",
      "1986 : 54\n",
      "1987 : 58\n",
      "1988 : 56\n",
      "1989 : 42\n",
      "1990 : 49\n",
      "1991 : 52\n",
      "1992 : 74\n",
      "1993 : 92\n",
      "1994 : 197\n",
      "1995 : 266\n",
      "1996 : 3918\n",
      "1997 : 1921\n"
     ]
    }
   ],
   "source": [
    "cn_endpoint = 'http://ci.nii.ac.jp/books/opensearch/search/'\n",
    "query = {\n",
    "    'area': 22,\n",
    "    'count': 10000,\n",
    "    'format': 'json'\n",
    "}\n",
    "\n",
    "response = requests.get(cn_endpoint, params=query)\n",
    "data = response.json()['@graph'][0]['items']\n",
    "# print(data[0]['prism:publicationDate'])\n",
    "\n",
    "result = dict()\n",
    "for item in data:\n",
    "    try:\n",
    "        p_date = item['prism:publicationDate']\n",
    "        if(int(p_date)) in result:\n",
    "            result[int(p_date)] += 1\n",
    "        else:\n",
    "            result[int(p_date)] = 1\n",
    "    except:\n",
    "        pass\n",
    "\n",
    "result = sorted(result.items())\n",
    "\n",
    "for item in result:\n",
    "    print(item[0], ':', item[1])"
   ]
  },
  {
   "cell_type": "markdown",
   "metadata": {},
   "source": [
    "### Q38. Q36の課題で実装したコードを改良し、CiNii Books APIを利用し、任意のキーワードqueryが与えられたときに、それに関する図書・雑誌リストを10件取得し、そのタイトル、著者名、および書誌詳細ページのURL（例はコチラ）を返す関数simple_search_booksを実装せよ。なお、出力は{\"title\":タイトル, \"author\":著者名, \"detail_url\":書誌詳細ページのURL}という辞書のリストで行うものとする。また、キーワードにマッチする図書・雑誌がなかった場合はNoneオブジェクトを返すように実装せよ。\n",
    "\n"
   ]
  },
  {
   "cell_type": "code",
   "execution_count": 19,
   "metadata": {},
   "outputs": [],
   "source": [
    "def get_cinii_books(kw, num):\n",
    "    endpoint = 'http://ci.nii.ac.jp/books/opensearch/search/'\n",
    "    query = {\n",
    "        'q': kw,\n",
    "        'count': num,\n",
    "        'format': 'json'\n",
    "    }\n",
    "    response = requests.get(endpoint, params=query)\n",
    "    result = list()\n",
    "    if response.status_code == 200:\n",
    "        for item in response.json()['@graph'][0]['items']:\n",
    "            data = {\n",
    "                'title': item['title'],\n",
    "                'author': item.get('dc:creator'),\n",
    "                'detail_url': item['@id']\n",
    "            }\n",
    "            result.append(data)\n",
    "        return result\n",
    "    else:\n",
    "        return None"
   ]
  },
  {
   "cell_type": "code",
   "execution_count": 21,
   "metadata": {},
   "outputs": [
    {
     "data": {
      "text/plain": [
       "[{'title': 'お好み焼き食べたい : 具とソースで満腹バリエ33種',\n",
       "  'author': None,\n",
       "  'detail_url': 'https://ci.nii.ac.jp/ncid/BB0521742X'},\n",
       " {'title': '広島ベストスポット',\n",
       "  'author': None,\n",
       "  'detail_url': 'https://ci.nii.ac.jp/ncid/BA67030282'},\n",
       " {'title': 'お好み焼きの物語 : 執念の調査が解き明かす新戦前史',\n",
       "  'author': '近代食文化研究会著',\n",
       "  'detail_url': 'https://ci.nii.ac.jp/ncid/BB27669877'},\n",
       " {'title': '神戸とお好み焼き : まちづくりと比較都市論の視点から',\n",
       "  'author': '三宅正弘著',\n",
       "  'detail_url': 'https://ci.nii.ac.jp/ncid/BA59464673'},\n",
       " {'title': 'お好み焼きたこ焼きもんじゃ焼き&鉄板焼き',\n",
       "  'author': None,\n",
       "  'detail_url': 'https://ci.nii.ac.jp/ncid/BA51542558'},\n",
       " {'title': '「街的 (まちてき)」ということ : お好み焼き屋は街の学校だ',\n",
       "  'author': '江弘毅著',\n",
       "  'detail_url': 'https://ci.nii.ac.jp/ncid/BA78012806'},\n",
       " {'title': '浜内千波の野菜たっぷりやせる!お好み焼きダイエット',\n",
       "  'author': '浜内千波著',\n",
       "  'detail_url': 'https://ci.nii.ac.jp/ncid/BB04061314'},\n",
       " {'title': 'お好み焼き90%たこ焼き10%の本 : 粉もん100%レシピ&店ガイド',\n",
       "  'author': None,\n",
       "  'detail_url': 'https://ci.nii.ac.jp/ncid/BB02645347'},\n",
       " {'title': '絶品お好み焼き : たこ焼き・もんじゃ焼き : 人気店の味を家で楽しむ',\n",
       "  'author': '成美堂出版編集部編',\n",
       "  'detail_url': 'https://ci.nii.ac.jp/ncid/BB00369635'},\n",
       " {'title': 'お好み焼き繁盛店「鶴橋風月」成功のキーワード100',\n",
       "  'author': '市川徹, 橘恭輔著',\n",
       "  'detail_url': 'https://ci.nii.ac.jp/ncid/BA86294656'}]"
      ]
     },
     "execution_count": 21,
     "metadata": {},
     "output_type": "execute_result"
    }
   ],
   "source": [
    "get_cinii_books('お好み焼き', 10)"
   ]
  },
  {
   "cell_type": "markdown",
   "metadata": {},
   "source": [
    "### Q39. CiNii Booksのウェブサイト上の任意の書誌詳細ページのURL（例はコチラ）が与えられたとき、そのページのHTMLを解析することで、該当書誌の概要文（CiNii Booksでは「内容説明」に該当）を取得する関数get_abstractを実装せよ。get_abstractの入力引数はurlとして実装せよ。"
   ]
  },
  {
   "cell_type": "code",
   "execution_count": 16,
   "metadata": {},
   "outputs": [],
   "source": [
    "def get_abstract(url):\n",
    "    response = requests.get(url)\n",
    "    data = response.text\n",
    "    data = pq(data)\n",
    "    des = data('.toc-body:first').text()\n",
    "    return des"
   ]
  },
  {
   "cell_type": "code",
   "execution_count": 17,
   "metadata": {},
   "outputs": [
    {
     "data": {
      "text/plain": [
       "'映像業界の異端児はどこへ向かうのか。ネットファースト展開というビジネスモデルでエンターテインメント業界へ風穴を開け、既存の慣習を壊しながら驚異的な成長を遂げている米動画配信大手ネットフリックス。『ハウス・オブ・カード』の成功から、２０１９年には『ＲＯＭＡ／ローマ』でアカデミー賞を受賞。日本でも『全裸監督』や『愛の不時着』で話題をさらった。オリジナルコンテンツでヒット作を生み続ける彼らの、独自の戦略と流儀とは何か。その全貌と裏側に迫る。'"
      ]
     },
     "execution_count": 17,
     "metadata": {},
     "output_type": "execute_result"
    }
   ],
   "source": [
    "get_abstract(\"https://ci.nii.ac.jp/ncid/BC10315414\")"
   ]
  },
  {
   "cell_type": "markdown",
   "metadata": {},
   "source": [
    "### Q40. Q38,39で実装した関数simple_search_booksおよびget_abstractを改良して、任意のキーワードqueryが与えられたときに、それに関する図書・雑誌リストを最大100件取得し、そのタイトル、著者名、書誌詳細ページのURL、および図書・雑誌の概要文を返す関数search_booksを実装せよ。なお、出力は{\"title\":タイトル, \"author\":著者名, \"detail_url\":書誌詳細ページのURL, \"abstract\":概要文}という辞書のリストで行うものとする。また、キーワードにマッチする図書・雑誌がなかった場合はNoneオブジェクトを返すように実装せよ。"
   ]
  },
  {
   "cell_type": "code",
   "execution_count": 22,
   "metadata": {},
   "outputs": [],
   "source": [
    "def search_books(kw):\n",
    "    books = get_cinii_books(kw, 100)\n",
    "    for book in books:\n",
    "        des = get_abstract(book['detail_url'])\n",
    "        book['abstract'] = des\n",
    "    return books"
   ]
  },
  {
   "cell_type": "code",
   "execution_count": 23,
   "metadata": {},
   "outputs": [
    {
     "data": {
      "text/plain": [
       "[{'title': 'お好み焼き食べたい : 具とソースで満腹バリエ33種',\n",
       "  'author': None,\n",
       "  'detail_url': 'https://ci.nii.ac.jp/ncid/BB0521742X',\n",
       "  'abstract': ''},\n",
       " {'title': '広島ベストスポット',\n",
       "  'author': None,\n",
       "  'detail_url': 'https://ci.nii.ac.jp/ncid/BA67030282',\n",
       "  'abstract': ''},\n",
       " {'title': 'お好み焼きの物語 : 執念の調査が解き明かす新戦前史',\n",
       "  'author': '近代食文化研究会著',\n",
       "  'detail_url': 'https://ci.nii.ac.jp/ncid/BB27669877',\n",
       "  'abstract': 'お好み焼きは大阪や広島ではなく東京で誕生。ソース焼きそばはお好み焼きの一種。人形焼や鯛焼がお好み焼き誕生に関係など、常識が崩れる。'},\n",
       " {'title': '神戸とお好み焼き : まちづくりと比較都市論の視点から',\n",
       "  'author': '三宅正弘著',\n",
       "  'detail_url': 'https://ci.nii.ac.jp/ncid/BA59464673',\n",
       "  'abstract': '関西の代表的な庶民の味、お好み焼き。大阪のイメージが強い食べ物ですが、実は神戸にも、独自のお好み焼き文化が根づいています。「にくてん」をルーツとし、個人経営の店が多く、また、そんな店だけに卸すソース「地ソース」を作る会社が８社もある—そんなユニークな“神戸のお好み焼き文化”に注目した初めての本。まちづくり・地域デザインを専門とする著者が専門家としての立場から、食文化論を超えた斬新な考察を展開します。'},\n",
       " {'title': 'お好み焼きたこ焼きもんじゃ焼き&鉄板焼き',\n",
       "  'author': None,\n",
       "  'detail_url': 'https://ci.nii.ac.jp/ncid/BA51542558',\n",
       "  'abstract': ''},\n",
       " {'title': '「街的 (まちてき)」ということ : お好み焼き屋は街の学校だ',\n",
       "  'author': '江弘毅著',\n",
       "  'detail_url': 'https://ci.nii.ac.jp/ncid/BA78012806',\n",
       "  'abstract': '「街的」の意味\\n都会と街は違う（都会と街；情報の中にある都会；「いなかもの」と呼ばれると人は悲しい；街場のコミュニケーション；街は企画・編集されない）\\n街には店がある（ソウル＆リージョナル・フードとしてのお好み焼き；街場の「うまい」；神戸に行列のできるラーメンがない理由；店のカテゴリー化、あるいはジャンル化；カフェ伝説序説；街のでき方\\u3000大阪・ミナミの場合；会員制と会員制的；店は極めない、を京都で知る）\\nメディアと街情報（データは実は伝わらない；情報誌と街の関係；街を見ること、街を書くこと）\\n街で大人として生きる（鮨屋の母国語；お好み焼き屋は街の学校だ；ワインのコミュニケーション不全；酒場馬鹿；常連は難しい；街の先輩）'},\n",
       " {'title': '浜内千波の野菜たっぷりやせる!お好み焼きダイエット',\n",
       "  'author': '浜内千波著',\n",
       "  'detail_url': 'https://ci.nii.ac.jp/ncid/BB04061314',\n",
       "  'abstract': '浜内式なら、広島風はもちろん、大阪風でもダイエットに最適です。しかも、肉や魚、野菜の旨味成分をしっかり引き出しているので、ほんとうにおいしい。ここでは４７種のお好み焼きを紹介しています。１枚１枚焼いていくうちに、いつしかそれぞれのご家庭の味になっていくことでしょう。その頃には、きっとダイエットにも成功しているはずですよ。'},\n",
       " {'title': 'お好み焼き90%たこ焼き10%の本 : 粉もん100%レシピ&店ガイド',\n",
       "  'author': None,\n",
       "  'detail_url': 'https://ci.nii.ac.jp/ncid/BB02645347',\n",
       "  'abstract': ''},\n",
       " {'title': '絶品お好み焼き : たこ焼き・もんじゃ焼き : 人気店の味を家で楽しむ',\n",
       "  'author': '成美堂出版編集部編',\n",
       "  'detail_url': 'https://ci.nii.ac.jp/ncid/BB00369635',\n",
       "  'abstract': '東京風・大阪風・広島風の定番お好み焼き、たこ焼き、もんじゃ焼きからねぎ焼き、明石暁き、とん平焼きなど個性あふれる御当地メニューまで有名店が実際の店でのつくり方を惜しげもなく大公開。'},\n",
       " {'title': 'お好み焼き繁盛店「鶴橋風月」成功のキーワード100',\n",
       "  'author': '市川徹, 橘恭輔著',\n",
       "  'detail_url': 'https://ci.nii.ac.jp/ncid/BA86294656',\n",
       "  'abstract': '下町の一軒のお好み焼き店が一大チェーンに。１００の真実からみえてくる飲食業界で成功するためのヒント。'},\n",
       " {'title': '関西焼き完全読本 : うまいお好み焼き・おいしい鉄板焼き・全レシピ',\n",
       "  'author': '若竹学園編著',\n",
       "  'detail_url': 'https://ci.nii.ac.jp/ncid/BA85020112',\n",
       "  'abstract': '関西焼きは世界に誇る『粉もん』文化だ！生地と具材を混ぜて鉄板に広げ、じっくりと火を通す。裏返しても上から押さえつけてはいけない。外側をカリッと、中をふっくらと焼き上げたら、ソースとマヨネーズ、かつお節、青海苔で仕上げる。どこか懐かしい味わいの関西焼きをどうぞ。'},\n",
       " {'title': 'まぼろしのお好み焼きソース',\n",
       "  'author': '松宮宏著',\n",
       "  'detail_url': 'https://ci.nii.ac.jp/ncid/BB22771355',\n",
       "  'abstract': '粉もん発祥の地・神戸には、ソースを作るメーカーが何社もあり、それぞれがお好み焼き用、焼きそば用、たこ焼き用など、たくさんの種類を販売している。それを数種類ブレンドし、かすを入れたのが、長田地区のお好み焼き。人気店「駒」でも同じだが、店で使用するソース会社が経営の危機に陥った。高利貸し、ヤクザ、人情篤い任侠、おまけにＢ級グルメ選手権の地方選抜が絡んで…。'},\n",
       " {'title': 'うまいっ!お好み焼き&焼きそば',\n",
       "  'author': '林幸子著',\n",
       "  'detail_url': 'https://ci.nii.ac.jp/ncid/BB02364712',\n",
       "  'abstract': '関西のソウルフード“お好み焼き”野菜たっぷりで人気の“広島風お好み焼き”Ｂ級グルメで話題の“ご当地焼きそば”今、人気の粉もんメニューがこの一冊に集結！粉もんをこよなく愛するグー先生が、家でおいしく作るためのコツを伝授します。'},\n",
       " {'title': '広島・宮島 : 尾道・呉・岩国',\n",
       "  'author': None,\n",
       "  'detail_url': 'https://ci.nii.ac.jp/ncid/BA90526733',\n",
       "  'abstract': ''},\n",
       " {'title': '大阪',\n",
       "  'author': None,\n",
       "  'detail_url': 'https://ci.nii.ac.jp/ncid/BA91120643',\n",
       "  'abstract': ''},\n",
       " {'title': 'お好み焼き : ソースの甘い匂いがたまらない!',\n",
       "  'author': '浜内千波〔著〕',\n",
       "  'detail_url': 'https://ci.nii.ac.jp/ncid/BA5621815X',\n",
       "  'abstract': ''},\n",
       " {'title': 'MMのお好み焼き : 金属基複合材料の製法、特性、マーケット',\n",
       "  'author': '森田幹郎著',\n",
       "  'detail_url': 'https://ci.nii.ac.jp/ncid/BN04093676',\n",
       "  'abstract': '第１章\\u3000金属の複合材料にはどんなものがあるか\\n第２章\\u3000金属基複合材料はこうして作られた\\n第３章\\u3000複合材料のいいところ\\n第４章\\u3000複合材料の作り方\\n第５章\\u3000どんな基材を使うか\\n第６章\\u3000金属基複合材料の二次加工法\\n第７章\\u3000誰が何に使っているか\\n第８章\\u3000魅力溢れる将来\\n第９章\\u3000一つの山を越えると次の山が見えてくる'},\n",
       " {'title': 'お好み焼き免許皆伝',\n",
       "  'author': 'お好み焼研修センター編',\n",
       "  'detail_url': 'https://ci.nii.ac.jp/ncid/BA38573127',\n",
       "  'abstract': '第１章\\u3000絶品お好み焼き\\u3000基本テクニック\\n第２章\\u3000東西お好み焼き\\u3000ホットな競演\\n第３章\\u3000秀逸お好み焼き\\u3000あれもこれも\\n第４章\\u3000お好み焼きの材料・道具ガイド'},\n",
       " {'title': '春情蛸の足',\n",
       "  'author': '田辺聖子著',\n",
       "  'detail_url': 'https://ci.nii.ac.jp/ncid/BN08990375',\n",
       "  'abstract': 'イボイボがプリッ！蛸は薄味でトクトクと煮こんだところにコクがある。大阪・四季おりおりの味を楽しみながら、男が生きる、女が生きる。'},\n",
       " {'title': 'お好みふうふう京の店 : お好み焼き屋さん大集合',\n",
       "  'author': '京都新聞社編',\n",
       "  'detail_url': 'https://ci.nii.ac.jp/ncid/BN15846288',\n",
       "  'abstract': '本書では、庶民的な味の代表格、お好み焼き・焼きそばのお店を取り上げました。いわゆる広島焼き、ネギ焼き、モダン焼き、もんじゃ焼きなどを含め、７６店を収録し、それぞれのお店の鉄板焼きメニューなどもあわせて紹介しています。'},\n",
       " {'title': 'はっぱや神馬',\n",
       "  'author': '檜垣亮著',\n",
       "  'detail_url': 'https://ci.nii.ac.jp/ncid/BB11980375',\n",
       "  'abstract': '昭和４７年、羽田にほど近い下町・垂腹町商店街にて謎の商売「はっぱや」を営むあやしい男・十条神馬。彼を追いかけるキュートで頭でっかちな小学生・麻子…最強のふたりが贈る夢と爆破の大冒険。'},\n",
       " {'title': '日本全国・お好み焼50枚の顔いろいろ。',\n",
       "  'author': None,\n",
       "  'detail_url': 'https://ci.nii.ac.jp/ncid/BA89409437',\n",
       "  'abstract': ''},\n",
       " {'title': 'カナダ国際交流とプチ留学 : モントリオール海外ボランティア : 海外でお好み焼きイベントを行う',\n",
       "  'author': '倉田ホップ著',\n",
       "  'detail_url': 'https://ci.nii.ac.jp/ncid/BA70490950',\n",
       "  'abstract': '著者とセブリーナというフランスの女性が、日本とフランスとの対比を交えて、最新のモントリオールの魅力をたっぷりと鋭い切り口で紹介する。'},\n",
       " {'title': '銭湯帰りに、お好み焼き : 震災のまちから食のまちへ',\n",
       "  'author': '神戸ながたTMO著',\n",
       "  'detail_url': 'https://ci.nii.ac.jp/ncid/BA66522645',\n",
       "  'abstract': '僕の好きな街長田、風呂屋とお好み焼屋がいっぱい！一体どんな街なんじゃ。'},\n",
       " {'title': '今日もまんぷく',\n",
       "  'author': '原田ひ香著',\n",
       "  'detail_url': 'https://ci.nii.ac.jp/ncid/BC07875840',\n",
       "  'abstract': '“見守り屋”の犬森祥子のもとには、様々な依頼が舞い込む。話し相手になったり、頼まれれば片づけをしたり、夜から朝までひたすら人を見守るのが仕事だ。夜勤明けの楽しみは「ランチ酒」。仕事の疲れを癒しながら、離れて暮らす一人娘に、これからの人生に思いを巡らす。そんなある日、十歳になった娘から「話したいことがある」と連絡が入り—。思い出の餃子×ビール、遠くへ行きたくなるお好み焼き×レモン酎ハイ、好きな人と食べたい白いオムライス×白ワイン…。'},\n",
       " {'title': 'キュイジーヌII : 混声のための合唱組曲 = Cuisine II : suite for mixed chorus',\n",
       "  'author': '伊藤千鶴作詩 ; 吉岡弘行作曲',\n",
       "  'detail_url': 'https://ci.nii.ac.jp/ncid/BC04993294',\n",
       "  'abstract': ''},\n",
       " {'title': 'ブランド力 : 今、企業や自治体に求められている大切な価値',\n",
       "  'author': '関野吉記著',\n",
       "  'detail_url': 'https://ci.nii.ac.jp/ncid/BB23684697',\n",
       "  'abstract': '１\\u3000なぜ、今ブランド力が必要なのか（付加価値を提供できる企業だけがお客様から選ばれる；ブランディングとは良いイメージを持ってもらうための活動である\\u3000ほか）\\n２\\u3000企業ブランドは社員がつくる（企業のイメージを想起させるのは社員、ごまかせないのが人；企業カルチャーが定着していれば、社員はどう動くか分かる\\u3000ほか）\\n３\\u3000世界で勝ち抜くためのブランド力（グローバルで勝つための条件；ブランド構築は一気通貫で行う\\u3000ほか）\\n４\\u3000地域ブランディングを成功させる条件（地域ブランディングの問題点；地域ブランディングは周囲を巻き込み気持ちのベクトルを合わせる\\u3000ほか）'},\n",
       " {'title': 'キュイジーヌ : 混声のための合唱組曲 = Cuisine : suite for mixed chorus',\n",
       "  'author': '伊藤千鶴作詩 ; 吉岡弘行作曲',\n",
       "  'detail_url': 'https://ci.nii.ac.jp/ncid/BC01616599',\n",
       "  'abstract': ''},\n",
       " {'title': 'わたしたちは銀のフォークと薬を手にして',\n",
       "  'author': '島本理生 [著]',\n",
       "  'detail_url': 'https://ci.nii.ac.jp/ncid/BB3113548X',\n",
       "  'abstract': '残業も休日出勤もいとわない仕事熱心なＯＬの知世。そんな彼女の楽しみは、仕事で出会った年上のエンジニア・椎名さんとの月二のデート。江の島の生しらす、雨の日の焼き鳥、御堂筋のホルモン、自宅での蟹鍋…。美味しいものを一緒に食べるだけの関係だったが、ある日、彼が抱える秘密を打ち明けられる。行方のわからない大人の恋を描いた恋愛小説。'},\n",
       " {'title': 'るるぶ広島宮島 : 尾道しまなみ海道呉',\n",
       "  'author': None,\n",
       "  'detail_url': 'https://ci.nii.ac.jp/ncid/BB23906165',\n",
       "  'abstract': ''},\n",
       " {'title': 'お好み焼57枚の思い出 : あの日、あの味、あの笑顔',\n",
       "  'author': 'オタフクソース広報室編集',\n",
       "  'detail_url': 'https://ci.nii.ac.jp/ncid/BA87126544',\n",
       "  'abstract': ''},\n",
       " {'title': '商業関係ノイズ',\n",
       "  'author': '玉井和雄監修・解説',\n",
       "  'detail_url': 'https://ci.nii.ac.jp/ncid/BA5709089X',\n",
       "  'abstract': ''},\n",
       " {'title': '国際ビジネスの現実と地平 : 地域からの眺望',\n",
       "  'author': '広島市立大学国際学部国際ビジネス研究フォーラム編',\n",
       "  'detail_url': 'https://ci.nii.ac.jp/ncid/BB30064422',\n",
       "  'abstract': '国際ビジネスの探究には経営学のみならず多様で学際的な視点からの接近が求められる。また「国際ビジネス」を全体とするなら、部分である「地域」とのバランスのとれた接近も必要である。国際経営論、国際貿易論、国際私法、実験経済学、管理会計、公会計、非営利組織論など幅広い学問分野から接近し、国際ビジネスと地域への理解を深める書。'}]"
      ]
     },
     "execution_count": 23,
     "metadata": {},
     "output_type": "execute_result"
    }
   ],
   "source": [
    "search_books('お好み焼き')"
   ]
  },
  {
   "cell_type": "code",
   "execution_count": null,
   "metadata": {},
   "outputs": [],
   "source": []
  }
 ],
 "metadata": {
  "kernelspec": {
   "display_name": "Python 3",
   "language": "python",
   "name": "python3"
  },
  "language_info": {
   "codemirror_mode": {
    "name": "ipython",
    "version": 3
   },
   "file_extension": ".py",
   "mimetype": "text/x-python",
   "name": "python",
   "nbconvert_exporter": "python",
   "pygments_lexer": "ipython3",
   "version": "3.8.5"
  }
 },
 "nbformat": 4,
 "nbformat_minor": 4
}
