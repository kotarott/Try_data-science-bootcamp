{
 "cells": [
  {
   "cell_type": "code",
   "execution_count": 1,
   "metadata": {},
   "outputs": [],
   "source": [
    "from janome.tokenizer import Tokenizer"
   ]
  },
  {
   "cell_type": "markdown",
   "metadata": {},
   "source": [
    "### Q.41 「茶の本」の文書からすべての名詞を抽出し、その出現頻度とともに表示せよ。"
   ]
  },
  {
   "cell_type": "code",
   "execution_count": 5,
   "metadata": {},
   "outputs": [],
   "source": [
    "t = Tokenizer()\n",
    "meisi = []\n",
    "results = {}\n",
    "\n",
    "with open('data/natural-language-processing/cha_no_hon.txt', encoding='utf-8') as f:\n",
    "    s = f.read()\n",
    "    data = t.tokenize(s)\n",
    "    for token in data:\n",
    "        lst = token.part_of_speech.split(',')\n",
    "        if '名詞' in lst:\n",
    "            meisi.append(token.surface)\n",
    "    for word in meisi:\n",
    "        if word in results:\n",
    "            results[word] += 1\n",
    "        else:\n",
    "            results[word] = 1\n",
    "\n",
    "# print(results)"
   ]
  },
  {
   "cell_type": "markdown",
   "metadata": {},
   "source": [
    "### Q42. 「茶の本」の文書からすべてのサ変接続の名詞を抽出し、その出現頻度とともに表示せよ"
   ]
  },
  {
   "cell_type": "code",
   "execution_count": 3,
   "metadata": {},
   "outputs": [],
   "source": [
    "def count_words(words):\n",
    "    results = {}\n",
    "    for word in words:\n",
    "        if word in results:\n",
    "            results[word] += 1\n",
    "        else:\n",
    "            results[word] = 1\n",
    "    return results\n",
    "\n",
    "def get_part_and_num(part):\n",
    "    t = Tokenizer()\n",
    "    words = list()\n",
    "    with open('data/natural-language-processing/cha_no_hon.txt', encoding='utf-8') as f:\n",
    "        s = f.read()\n",
    "        for token in t.tokenize(s):\n",
    "            lst = token.part_of_speech.split(',')\n",
    "            if part in lst:\n",
    "                words.append(token.surface)\n",
    "    return count_words(words)"
   ]
  },
  {
   "cell_type": "code",
   "execution_count": 6,
   "metadata": {},
   "outputs": [],
   "source": [
    "# get_part_and_num('サ変接続')"
   ]
  },
  {
   "cell_type": "markdown",
   "metadata": {},
   "source": [
    "### Q43. 「茶の本」の文書から「形容詞+名詞」の形になっている句をすべて抽出し、表示せよ。"
   ]
  },
  {
   "cell_type": "code",
   "execution_count": 40,
   "metadata": {},
   "outputs": [],
   "source": [
    "def get_janome_list(file_path):\n",
    "    janome_list = list()\n",
    "    with open(file_path, encoding='utf-8') as f:\n",
    "        s = t.tokenize(f.read())\n",
    "        for token in s:\n",
    "            token_set = [token.surface, token.part_of_speech.split(',')]\n",
    "            janome_list.append(token_set)\n",
    "    return janome_list"
   ]
  },
  {
   "cell_type": "code",
   "execution_count": 46,
   "metadata": {},
   "outputs": [],
   "source": [
    "def get_words_by_types(former, latter):\n",
    "    lst = get_janome_list('data/natural-language-processing/cha_no_hon.txt')\n",
    "    results = list()\n",
    "    for i, token_set in enumerate(lst):\n",
    "        if i == 0:\n",
    "            pass\n",
    "        else:\n",
    "            if latter in token_set[1]:\n",
    "                if former in lst[i-1][1]:\n",
    "                    results.append(lst[i-1][0] + token_set[0])\n",
    "    return results"
   ]
  },
  {
   "cell_type": "code",
   "execution_count": 47,
   "metadata": {},
   "outputs": [
    {
     "data": {
      "text/plain": [
       "['美しきもの',\n",
       " 'やさしい企て',\n",
       " '長い間',\n",
       " 'ずるところ',\n",
       " '狭いもの',\n",
       " '早く涙',\n",
       " '悪いこと',\n",
       " 'なく奉納',\n",
       " '血なまぐさい姿',\n",
       " '暖かい同情',\n",
       " 'よき沈黙',\n",
       " '血なまぐさい戦争',\n",
       " 'つまらない狂信',\n",
       " 'おもしろい種',\n",
       " '遠きもの',\n",
       " '毛深いしっぽ',\n",
       " '悪いこと',\n",
       " '高いシルクハット',\n",
       " '嘆かわしいもの',\n",
       " '血なまぐさい戦争',\n",
       " '恐ろしい結果',\n",
       " 'やわらかい気持ち',\n",
       " '弱い調和',\n",
       " '柔らかい絹',\n",
       " 'なく確立',\n",
       " '疑わしい煎茶',\n",
       " '古い記事',\n",
       " 'よい物',\n",
       " '高いため',\n",
       " 'すばらしい勢い',\n",
       " 'けだかい奥義',\n",
       " '広く天',\n",
       " 'やましいこと',\n",
       " '明るい午後',\n",
       " 'うれしげ',\n",
       " 'はかないこと',\n",
       " 'ないこと',\n",
       " 'けだかい味',\n",
       " '悪いため',\n",
       " '早い時代',\n",
       " '広くこれ',\n",
       " '重い茶碗',\n",
       " '軽い白磁',\n",
       " '新しい方法',\n",
       " '偉い芸術',\n",
       " '珍しい良質',\n",
       " '新しい意味',\n",
       " '古い喫茶',\n",
       " '長い災禍',\n",
       " '強い興味',\n",
       " '若さ',\n",
       " '近い宇治',\n",
       " 'ないよう',\n",
       " '新しい形',\n",
       " '著しいもの',\n",
       " '相容れない一種',\n",
       " '遠い以前',\n",
       " '長い間',\n",
       " '恐ろしく自己',\n",
       " '速く能',\n",
       " '等しく彼ら',\n",
       " '興味深い結果',\n",
       " '憂き世の中',\n",
       " '良注釈',\n",
       " '強く唱道',\n",
       " 'もったいないこと',\n",
       " '等しい可能',\n",
       " '深いもの',\n",
       " '軽い務め',\n",
       " 'ないよう',\n",
       " '美しさ',\n",
       " '広さ',\n",
       " 'ない茶室',\n",
       " '狭い家',\n",
       " 'よい茶室',\n",
       " '著しい対照',\n",
       " 'ないもの',\n",
       " '大きさ',\n",
       " 'がたいもの',\n",
       " '高さ',\n",
       " '古い宮殿',\n",
       " 'なく装飾',\n",
       " '等しいよう',\n",
       " '偉い茶人',\n",
       " '多く反映',\n",
       " '広さ',\n",
       " '狭い室',\n",
       " '新しい感情',\n",
       " '偉いもの',\n",
       " '遠州',\n",
       " '遠州',\n",
       " 'やわらかい霊光',\n",
       " '高さ',\n",
       " '狭い入り口',\n",
       " 'ないよう',\n",
       " '美しい音',\n",
       " '遠き丘',\n",
       " '低いひさし',\n",
       " '古めかしい和',\n",
       " '新しい茶筅',\n",
       " '著しい対比',\n",
       " '暗いすみ',\n",
       " '重々しい木造',\n",
       " '古い考え',\n",
       " '深い意味',\n",
       " '弱い雨露',\n",
       " '細い柱',\n",
       " '弱々しさ',\n",
       " '古くさい様式',\n",
       " '美しさ',\n",
       " '美しいもの',\n",
       " 'おびただしい陳列',\n",
       " '深いもの',\n",
       " '力強いところ',\n",
       " '丸い釜',\n",
       " 'つらいこと',\n",
       " 'なき人',\n",
       " 'わずらわしさ',\n",
       " 'ありがたい休養',\n",
       " 'きびしい儀式',\n",
       " '深く地中',\n",
       " '長い間',\n",
       " 'がたい馬',\n",
       " 'やさしく琴',\n",
       " '若い奔流',\n",
       " '悲しげ',\n",
       " 'さびしき夜',\n",
       " '鋭い月',\n",
       " '深く思案',\n",
       " '美しい雲',\n",
       " '長い影',\n",
       " '新しい意味',\n",
       " '遠州',\n",
       " 'がたい言葉',\n",
       " 'おもしろい自白',\n",
       " '若いころ',\n",
       " '少ないの',\n",
       " 'ない無知',\n",
       " 'ない礼儀',\n",
       " 'ないため',\n",
       " 'なく運命',\n",
       " 'あたたかい流露',\n",
       " '遠いの',\n",
       " '古い俚諺',\n",
       " 'はなはだしいもの',\n",
       " '珍しい美術',\n",
       " '遠州',\n",
       " '遠州',\n",
       " '遠州',\n",
       " '偉い利休',\n",
       " '美しいもの',\n",
       " '尊い産物',\n",
       " 'よい特性',\n",
       " '古きゆえ',\n",
       " '冷たき軽侮',\n",
       " '美しい物',\n",
       " '芳しい花',\n",
       " '淡い色',\n",
       " '美しい子供',\n",
       " '偉いもの',\n",
       " 'やさしい花',\n",
       " '恐ろしい運命',\n",
       " '美しい花',\n",
       " 'ない人',\n",
       " '狭い器',\n",
       " '恐ろしい人',\n",
       " 'ない変',\n",
       " '長くお前',\n",
       " '注意深い慮り',\n",
       " 'よき友',\n",
       " 'おそい時',\n",
       " '楽しいもの',\n",
       " '古いもの',\n",
       " 'やわらかい刷毛',\n",
       " '美しい侍女',\n",
       " '青い顔',\n",
       " '寒夜',\n",
       " 'か弱い花',\n",
       " '小さい金',\n",
       " '美しい音楽',\n",
       " 'おかしみ',\n",
       " '美しさ',\n",
       " 'なつかしい南国',\n",
       " '暗香',\n",
       " '古きもの',\n",
       " '高い人格',\n",
       " '注意深く選択',\n",
       " 'ない頭',\n",
       " 'なき心やり',\n",
       " '遠州',\n",
       " '白い梅',\n",
       " '新しい考案',\n",
       " '新しい方法',\n",
       " 'ものものしい服装',\n",
       " '美しい平常',\n",
       " '暑い夏',\n",
       " '涼しい所',\n",
       " 'おもしろいもの',\n",
       " '美しさ',\n",
       " '美しい小石',\n",
       " '珍しい青銅',\n",
       " '高い軌範',\n",
       " '新しい型',\n",
       " '遠州',\n",
       " 'くふう',\n",
       " '遠州',\n",
       " '太い線',\n",
       " '正しい精神',\n",
       " '美しさ',\n",
       " '騒がしい海',\n",
       " '安ん',\n",
       " '美しさ',\n",
       " '麗しい往生',\n",
       " '長いもの',\n",
       " '恐ろしい彼',\n",
       " '悲しげ',\n",
       " 'なき亡者',\n",
       " 'はかなさ',\n",
       " '美しさ',\n",
       " '白い死に装束']"
      ]
     },
     "execution_count": 47,
     "metadata": {},
     "output_type": "execute_result"
    }
   ],
   "source": [
    "get_words_by_types('形容詞', '名詞')"
   ]
  },
  {
   "cell_type": "markdown",
   "metadata": {},
   "source": [
    "### Q44. 「茶の本」の文書からすべての単語を抽出し、出現頻度が高い上位20件の単語（の原形）を、品詞名、頻度付きで表示せよ。"
   ]
  },
  {
   "cell_type": "code",
   "execution_count": 67,
   "metadata": {},
   "outputs": [
    {
     "name": "stdout",
     "output_type": "stream",
     "text": [
      "[('の,助詞', 1633), ('、,記号', 1135), ('は,助詞', 1078), ('に,助詞', 1043), ('を,助詞', 1027), ('。,記号', 1021), ('て,助詞', 756), ('た,助動詞', 615), ('が,助詞', 432), ('で,助動詞', 418), ('と,助詞', 410), ('な,助動詞', 255), ('し,動詞', 253), ('も,助詞', 248), ('いる,動詞', 237), ('ある,助動詞', 233), ('こと,名詞', 226), ('その,連体詞', 182), ('もの,名詞', 169), ('する,動詞', 162)]\n"
     ]
    }
   ],
   "source": [
    "lst = get_janome_list('data/natural-language-processing/cha_no_hon.txt')\n",
    "words = dict()\n",
    "\n",
    "for item in lst:\n",
    "    items = ','.join([item[0], item[1][0]])\n",
    "    if items not in words:\n",
    "        words[items] = 1\n",
    "    else:\n",
    "        words[items] += 1\n",
    "\n",
    "sorted_words = sorted(words.items(), reverse=True, key=lambda x:x[1])\n",
    "print(sorted_words[:20])\n"
   ]
  },
  {
   "cell_type": "markdown",
   "metadata": {},
   "source": [
    "### Q.45 「茶の本」の文書のすべての名詞を抽出し、単語の出現頻度のヒストグラムを表示せよ（言語処理100本ノック 2015 Q.38 より改題）。"
   ]
  },
  {
   "cell_type": "code",
   "execution_count": 76,
   "metadata": {},
   "outputs": [
    {
     "data": {
      "image/png": "[encoded data removed]",
      "text/plain": [
       "<Figure size 432x288 with 1 Axes>"
      ]
     },
     "metadata": {
      "needs_background": "light"
     },
     "output_type": "display_data"
    }
   ],
   "source": [
    "word = list(words.keys())[:20]\n",
    "values = list(words.values())[:20]\n",
    "\n",
    "import matplotlib.pyplot as plt\n",
    "plt.bar(word, values)\n",
    "plt.show()"
   ]
  },
  {
   "cell_type": "code",
   "execution_count": null,
   "metadata": {},
   "outputs": [],
   "source": []
  }
 ],
 "metadata": {
  "kernelspec": {
   "display_name": "Python 3",
   "language": "python",
   "name": "python3"
  },
  "language_info": {
   "codemirror_mode": {
    "name": "ipython",
    "version": 3
   },
   "file_extension": ".py",
   "mimetype": "text/x-python",
   "name": "python",
   "nbconvert_exporter": "python",
   "pygments_lexer": "ipython3",
   "version": "3.8.5"
  }
 },
 "nbformat": 4,
 "nbformat_minor": 4
}
